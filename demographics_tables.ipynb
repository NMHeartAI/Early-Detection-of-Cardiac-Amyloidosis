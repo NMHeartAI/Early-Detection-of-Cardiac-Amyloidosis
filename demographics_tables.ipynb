{
 "cells": [
  {
   "cell_type": "code",
   "execution_count": null,
   "metadata": {},
   "outputs": [],
   "source": [
    "import pandas as pd\n",
    "from functools import partial\n",
    "import numpy as np\n",
    "from rebuild_cohort import build_cohort\n",
    "import demographics_utils as demo_util"
   ]
  },
  {
   "cell_type": "code",
   "execution_count": null,
   "metadata": {},
   "outputs": [],
   "source": [
    "dset_analytical_echo = pd.read_csv(COHORT_DATA_FILE)\n",
    "dset_analytical_echo[\"enet\"] = dset_analytical_echo.echonet_prediction.notna()\n",
    "dset_analytical_echo[\"ult_c\"] = dset_analytical_echo.ultromics_prediction.notna() & (\n",
    "    dset_analytical_echo.ultromics_classification != \"Uncertain\"\n",
    ")"
   ]
  },
  {
   "cell_type": "markdown",
   "metadata": {},
   "source": [
    "# Echo vars"
   ]
  },
  {
   "cell_type": "code",
   "execution_count": null,
   "metadata": {},
   "outputs": [],
   "source": [
    "dset_analytical_echo[\"EF_cat\"] = pd.cut(\n",
    "    dset_analytical_echo.EF, [-np.inf, 40, 50, np.inf], right=False\n",
    ")\n",
    "\n",
    "# # PWT\n",
    "# Cutoffs for female\n",
    "dset_analytical_echo.loc[dset_analytical_echo.Sex == \"F\", \"PWT_cat\"] = pd.cut(\n",
    "    dset_analytical_echo.loc[\n",
    "        dset_analytical_echo.Sex == \"F\", \"PWT\"\n",
    "    ],\n",
    "    bins=[6, 10, 13, 16, np.inf],\n",
    "    labels=[\"Normal\", \"Mild\", \"Moderate\", \"Severe\"],\n",
    "    ordered=True,\n",
    "    right=False,\n",
    ")\n",
    "# Cutoffs for male\n",
    "dset_analytical_echo.loc[dset_analytical_echo.Sex == \"M\", \"PWT_cat\"] = pd.cut(\n",
    "    dset_analytical_echo.loc[\n",
    "        dset_analytical_echo.Sex == \"M\", \"PWT\"\n",
    "    ],\n",
    "    bins=[6, 11, 14, 17, np.inf],\n",
    "    labels=[\"Normal\", \"Mild\", \"Moderate\", \"Severe\"],\n",
    "    ordered=True,\n",
    "    right=False,\n",
    ")\n",
    "\n",
    "# # LVH by IVS\n",
    "# Cutoffs for female\n",
    "dset_analytical_echo.loc[dset_analytical_echo.Sex == \"F\", \"IVS_cat\"] = pd.cut(\n",
    "    dset_analytical_echo.loc[dset_analytical_echo.Sex == \"F\", \"IVS_d_2D_calc\"],\n",
    "    bins=[0.6, 1.0, 1.3, 1.6, np.inf],\n",
    "    labels=[\"Normal\", \"Mild\", \"Moderate\", \"Severe\"],\n",
    "    ordered=True,\n",
    "    right=False,\n",
    ")\n",
    "# Cutoffs for male\n",
    "dset_analytical_echo.loc[dset_analytical_echo.Sex == \"M\", \"IVS_cat\"] = pd.cut(\n",
    "    dset_analytical_echo.loc[dset_analytical_echo.Sex == \"M\", \"IVS_d_2D_calc\"],\n",
    "    bins=[0.6, 1.1, 1.4, 1.7, np.inf],\n",
    "    labels=[\"Normal\", \"Mild\", \"Moderate\", \"Severe\"],\n",
    "    ordered=True,\n",
    "    right=False,\n",
    ")\n",
    "\n",
    "# Relative wall category \n",
    "dset_analytical_echo[\"RWT_cat\"] = dset_analytical_echo.RWT > 0.57"
   ]
  },
  {
   "cell_type": "markdown",
   "metadata": {},
   "source": [
    "# Main\n",
    "## Table 2 Demo"
   ]
  },
  {
   "cell_type": "code",
   "execution_count": null,
   "metadata": {},
   "outputs": [],
   "source": [
    "def demo_table(df: pd.DataFrame, missing_pred: str = None) -> pd.DataFrame:\n",
    "    num_dset = partial(\n",
    "        demo_util.numerical,\n",
    "        df=df.loc[df.enet & df.ult_c],\n",
    "        missing_pred=missing_pred,\n",
    "    )\n",
    "    cat_dset = partial(\n",
    "        demo_util.categorical_var,\n",
    "        df=df.loc[df.enet & df.ult_c],\n",
    "        missing_pred=missing_pred,\n",
    "    )\n",
    "\n",
    "    demo_table_list = [\n",
    "        num_dset(\"Age\"),\n",
    "        cat_dset(\"Sex\"),\n",
    "        cat_dset(\"Race\"),\n",
    "        cat_dset(\"EF_cat\"),\n",
    "        num_dset(\"PWT\"),\n",
    "        cat_dset(\"PWT_cat\").sort_index(level=1, key=demo_util.sorter),\n",
    "        num_dset(\"IVS_d_2D_calc\"),\n",
    "        cat_dset(\"IVS_cat\").sort_index(level=1, key=demo_util.sorter),\n",
    "        num_dset(\"RWT\", fmt=demo_util._mean_sd_fmt_2),\n",
    "        cat_dset(\"RWT_cat\"),\n",
    "        cat_dset(\"htn\"),\n",
    "    ]\n",
    "    return pd.concat(demo_table_list)"
   ]
  },
  {
   "cell_type": "code",
   "execution_count": null,
   "metadata": {},
   "outputs": [],
   "source": [
    "demo_table_2 = demo_table(df=dset_analytical_echo)\n",
    "print(demo_table_2)"
   ]
  },
  {
   "cell_type": "markdown",
   "metadata": {},
   "source": [
    "# Supplemental"
   ]
  },
  {
   "cell_type": "markdown",
   "metadata": {},
   "source": [
    "## Table 1 Demographics EchoNet-LVH"
   ]
  },
  {
   "cell_type": "code",
   "execution_count": null,
   "metadata": {},
   "outputs": [],
   "source": [
    "supp_demo_table1 = demo_table(df=dset_analytical_echo, missing_pred=\"enet\")\n",
    "print(supp_demo_table1)"
   ]
  },
  {
   "cell_type": "markdown",
   "metadata": {},
   "source": [
    "## Table 2 Demographics Ultromics"
   ]
  },
  {
   "cell_type": "code",
   "execution_count": null,
   "metadata": {},
   "outputs": [],
   "source": [
    "supp_demo_table2 = demo_table(df=dset_analytical_echo, missing_pred=\"ult_c\")\n",
    "print(supp_demo_table2)"
   ]
  },
  {
   "cell_type": "code",
   "execution_count": null,
   "metadata": {},
   "outputs": [],
   "source": []
  }
 ],
 "metadata": {
  "kernelspec": {
   "display_name": "amyl",
   "language": "python",
   "name": "python3"
  },
  "language_info": {
   "codemirror_mode": {
    "name": "ipython",
    "version": 3
   },
   "file_extension": ".py",
   "mimetype": "text/x-python",
   "name": "python",
   "nbconvert_exporter": "python",
   "pygments_lexer": "ipython3",
   "version": "3.10.15"
  }
 },
 "nbformat": 4,
 "nbformat_minor": 2
}
