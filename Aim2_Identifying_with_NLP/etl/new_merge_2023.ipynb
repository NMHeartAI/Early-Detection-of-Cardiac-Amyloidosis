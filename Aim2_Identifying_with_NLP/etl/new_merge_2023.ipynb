{
 "cells": [
  {
   "cell_type": "markdown",
   "metadata": {},
   "source": [
    "## Notebook purpose:\n",
    "In this notebook we aggregate patient level amyloid diagnosis data for our cohort. The notebook reads labels from various sources and combines them in a way that respects the quality of the different sources.\n",
    "\n",
    "### Datasets:\n",
    "**all datasets patient amyloid diagnosis**:\n",
    "  - These are labels obtained from 3 sources:\n",
    "    1. Labels from Mayo Reports, Cardiac Path Reports, PYP Reports. These labels are provided and have already been aggregated in the notebook `merge__cp_pyp_mayo.ipynb` and are saved in the file `all_datasets_patient_amyloid_diagnosis.csv`. The aggregation rules are described below. Label date is taken as the earliest date of a definitive diagnosis, with the following order of priority: Cardiac Path Reports, Mayo Reports, PYP Reports. The label columns for this aggregation have prefix `final__`: `final__amyloid_diagnosis`, `final__amyloid_subtype_diagnosis`, `final__ttr_amyloid_subtype_diagnosis`, `final__amyloid_diagnosis_date`\n",
    "      - AMYLOID DIAGNOSIS:\n",
    "        - Gold Standard: Cardiac Path Reports, Mayo Reports\n",
    "        - Silver Standard: PYP Reports\n",
    "        - Classes: \n",
    "          - POSITIVE \n",
    "          - NEGATIVE\n",
    "          - INDETERMINATE (reports were incomplete or did not include diagnosis)\n",
    "          - CHART REVIEW (clash between Gold Standard)\n",
    "      - AMYLOID SUBTYPE DIAGNOSIS:\n",
    "        - Gold Standard: Mayo Reports\n",
    "        - Silver Standard: PYP Reports (STRONGLY SUGGESTIVE implies ATTR)\n",
    "        - Classes: \n",
    "          - TTR\n",
    "          - AL\n",
    "          - CHART REVIEW (clash between Gold Standard)\n",
    "          - NaN (missing value)\n",
    "      - TTR SUBTYPE DIAGNOSIS:\n",
    "        - Gold Standard: Mayo Reports\n",
    "        - Classes: \n",
    "          - hTTR (Mayo reports include positive tests for hTTR)\n",
    "          - INDETERMINATE (defaults to wTTR because Mayo reports include tests for hTTR. Negative results imply wTTR but hTTR cannot be 100% ruled out)\n",
    "          - CHART REVIEW (clash between Gold Standard)\n",
    "          - NaN (missing value. INDETERMINATE means there was a test for hTTR and it was negative. NaN means there was no such information available) \n",
    "    2. Labels from clinical chart review for TTR\n",
    "      - Gold Standard\n",
    "      - Classes: \n",
    "        - hTTR (gets mapped to hTTR)\n",
    "        - wTTR (gets mapped to INDETERMINATE)\n",
    "        - TTR - w/u pending (gets mapped to NaN)\n",
    "        - NaN (missing value)\n",
    "\n",
    "    3. Labels from clinical chart review for AL\n",
    "      - Gold Standard\n",
    "      - Classes: \n",
    "        - AL (gets mapped to AL)\n",
    "        - NaN (missing value)\n",
    "\n",
    "  - Aggregation process:\n",
    "    1. We combine sources 2 and 3 first, because they don't overlap. This yields a dataframe with columns: `ir_id`, `chart_reviews__amyloid_diagnosis`, `chart_reviews__amyloid_subtype_diagnosis`, `chart_reviews__ttr_amyloid_subtype_diagnosis`, `chart_reviews__amyloid_diagnosis_date`\n",
    "    2. We combine the `chart_reviews__` columns with the `final__` columns to yield `label__amyloid_diagnosis`, `label__amyloid_subtype_diagnosis`, `label__ttr_amyloid_subtype_diagnosis`, `label__amyloid_diagnosis_date`\n",
    "    3. Clashes are flagged with `CHART_REVIEW`\n",
    "          \n",
    "**Amyloidosis Patients Cohort Entry** is the list of patients in our cohort. Includes a column that indicates if a patient has been prescribed **Tafamidis**. This drug is prescribed for TTR Amyloidosis (hTTR and wTTR).\n",
    "  - Gold Standard\n",
    "  - Classes: \n",
    "    - 1 (Patient is prescribed Tafamidis. Gets mapped to Amyloid Diagnosis = POSITIVE, Amyloid Subtype = TTR, TTR Subtype = NaN)\n",
    "    - 0 (missing value. The Patient is either not prescribed Tafamidis, or we don't have the record.)\n",
    "   \n",
    "### Output\n",
    "1. **cohort patient labels** is the dataframe of labels for patients in our cohort. We created labels from 2 sources, **all datasets patient amyloid diagnosis** and **Amyloidosis Patients Cohort Entry**. We want to link patient level data to each patient in the cohort. Patients with no labels are removed. The `label__amyloid_diagnosis`, `label__amyloid_subtype_diagnosis`, `label__ttr_amyloid_subtype_diagnosis`, `label__amyloid_diagnosis_date` columns have the label obtained from merging labels obtained from these sources. Again, clashes are flagged with `CHART_REVIEW`.\n",
    "\n",
    "2. **cohort chart reviews** is an empty dataframe for the patients requiring further chart review. We save it as a `.csv` and as an `.xlsx`.\n"
   ]
  },
  {
   "cell_type": "code",
   "execution_count": 1,
   "metadata": {},
   "outputs": [],
   "source": [
    "import numpy as np\n",
    "import pandas as pd\n",
    "from pathlib import Path\n",
    "\n",
    "\n",
    "pd.set_option(\"display.max_colwidth\", None)\n",
    "pd.set_option(\"display.max_rows\", None)\n"
   ]
  },
  {
   "cell_type": "code",
   "execution_count": 4,
   "metadata": {},
   "outputs": [],
   "source": [
    "# The path to the Amyloid data\n",
    "BASE = Path(\"/data/datasets/Amyloidosis/\")\n",
    "PULL_2023 = BASE / \"2023 pull\"\n",
    "\n",
    "\n",
    "# A file with chart review to obtain diagnoses in clinic for TTR patients\n",
    "clinic_cohort_path = BASE / \"Amyloid Clinic cohort.xlsx\"\n",
    "\n",
    "# A file with chart review to obtain diagnoses in clinic for AL patients\n",
    "amyloid_program_al_path = BASE / \"Amyloid program AL.xlsx\"\n",
    "\n",
    "# The cohort file to which we add diagnosis info - includes TAFAMIDIS prescription\n",
    "cohort_entry_path = BASE / \"Amyloidosis Patients Cohort Entry.csv\"\n",
    "cohort_entry_2023_path = PULL_2023 / \"Amyloidosis Patients Cohort Entry 2023.csv\"\n",
    "\n",
    "demographics_path = BASE / \"Amyloidosis Patients Demographics v2.csv\"\n",
    "demographics_2023_path = PULL_2023 / \"Amyloidosis Patients Demographics 2023.csv\"\n",
    "\n",
    "comorbidities_path = PULL_2023 / \"Amyloidosis Patients Comorbidities 2023.csv\"\n",
    "hf_subtype_2023_path = PULL_2023 / \"Amyloidosis Patients HF_Subtype 2023.csv\"\n",
    "hf_subtype_path = BASE / \"Amyloidosis Patients HF_Subtype.csv\"\n",
    "\n",
    "echomaster_path = BASE / \"Amyloidosis Patients EchoMaster.csv\"\n",
    "echomaster_2023_path = PULL_2023 / \"Amyloidosis Patients EchoMaster 2023.csv\"\n",
    "\n",
    "echosyngo_path = BASE / \"Amyloidosis Patients EchoSyngo.csv\"\n",
    "echosyngo_2023_path = PULL_2023 / \"Amyloidosis Patients EchoSyngo 2023.csv\"\n",
    "\n",
    "icd_codes_path = BASE / \"Amyloidosis Patients ICD Codes.csv\"\n",
    "icd_codes_2023_path = PULL_2023 / \"Amyloidosis Patients ICD Codes 2023.csv\"\n",
    "\n",
    "outpt_encounters_path = BASE / \"Amyloidosis Patients Outpt Clinic Encounters.csv\"\n",
    "outpt_encounters_2023_path = PULL_2023 / \"Amyloidosis Patients Outpt Clinic Encounters 2023.csv\"\n",
    "\n",
    "discharge_summary_path = BASE / \"Amyloidosis Patients Discharge Summary Notes.csv\"\n",
    "discharge_summary_2023_path = PULL_2023 / \"Amyloidosis Patients Discharge Summary Notes 2023.csv\"\n",
    "# Patient level diagnoses from cardiac path reports, pyp reports, and mayo labs - GOLD STANDARD for amyloid diagnosis\n",
    "amyloid_diagnosis_labels_path = (\n",
    "    BASE\n",
    "    / \"patient_amyloid_diagnosis\"\n",
    "    / \"all_datasets_patient_amyloid_diagnosis.csv\"\n",
    ")\n"
   ]
  },
  {
   "cell_type": "code",
   "execution_count": 4,
   "metadata": {},
   "outputs": [],
   "source": [
    "df = pd.read_excel(PULL_2023/\"Amyloid_Clinic_Anna.xlsx\")"
   ]
  },
  {
   "cell_type": "code",
   "execution_count": null,
   "metadata": {},
   "outputs": [],
   "source": [
    "keep_cols = [\n",
    "    'ir_id', 'heart_failure', 'heart_failure_date', 'hypertension', 'hypertension_date',\n",
    "]"
   ]
  },
  {
   "cell_type": "code",
   "execution_count": 16,
   "metadata": {},
   "outputs": [
    {
     "name": "stderr",
     "output_type": "stream",
     "text": [
      "/home/sbe578/miniconda3/envs/amyloidosis/lib/python3.8/site-packages/IPython/core/interactiveshell.py:3145: DtypeWarning: Columns (0) have mixed types.Specify dtype option on import or set low_memory=False.\n",
      "  has_raised = await self.run_ast_nodes(code_ast.body, cell_name,\n"
     ]
    }
   ],
   "source": [
    "df = pd.read_csv(demographics_path, sep=\"|\", error_bad_lines=True)\n",
    "df.drop(df.tail(2).index, inplace=True)\n",
    "\n",
    "df_2023 = pd.read_csv(demographics_2023_path, sep=\"|\", error_bad_lines=True)\n",
    "df_2023.drop(df_2023.tail(2).index, inplace=True)"
   ]
  },
  {
   "cell_type": "code",
   "execution_count": 18,
   "metadata": {},
   "outputs": [
    {
     "data": {
      "text/plain": [
       "Index(['ir_id', 'Age_cohort', 'Gender_EDW', 'Race_EDW', 'Ethnicity_EDW',\n",
       "       'race_ethncty_combined', 'Insurance_EDW_cohort',\n",
       "       'Insurance_Mapped_cohort'],\n",
       "      dtype='object')"
      ]
     },
     "execution_count": 18,
     "metadata": {},
     "output_type": "execute_result"
    }
   ],
   "source": [
    "df.columns"
   ]
  },
  {
   "cell_type": "code",
   "execution_count": 24,
   "metadata": {},
   "outputs": [],
   "source": [
    "labeled_cohort_path = BASE / \"Amyloidosis Patients Cohort Entry - Labeled V3.csv\"\n",
    "labeled_cohort = pd.read_csv(labeled_cohort_path)"
   ]
  },
  {
   "cell_type": "code",
   "execution_count": 30,
   "metadata": {},
   "outputs": [],
   "source": [
    "cases = labeled_cohort[labeled_cohort.patient_group__amyloid_cases ==1]"
   ]
  },
  {
   "cell_type": "code",
   "execution_count": 31,
   "metadata": {},
   "outputs": [],
   "source": [
    "l = set(cases.ir_id.values)"
   ]
  },
  {
   "cell_type": "markdown",
   "metadata": {},
   "source": [
    "### Load Patient Level Diagnosis Data"
   ]
  },
  {
   "cell_type": "code",
   "execution_count": 3,
   "metadata": {},
   "outputs": [],
   "source": [
    "# Read the patient level diagnosis data\n",
    "# I created this CSV so there is no need\n",
    "diagnoses = pd.read_csv(amyloid_diagnosis_labels_path)\n",
    "\n",
    "\n",
    "# we keep all columns so that we know which set of records the final label came from\n",
    "# cardiac path reports, pyp reports, and mayo labs\n",
    "\n",
    "diagnoses[\"final__amyloid_diagnosis_date\"] = pd.to_datetime(\n",
    "    diagnoses[\"final__amyloid_diagnosis_date\"]\n",
    ")\n",
    "\n"
   ]
  },
  {
   "cell_type": "code",
   "execution_count": null,
   "metadata": {},
   "outputs": [],
   "source": [
    "print(\n",
    "    f'We have {len(diagnoses[\"ir_id\"].unique())} patients with a gold standard amyloid diagnosis.'\n",
    ")\n",
    "\n",
    "print(diagnoses[\"final__amyloid_diagnosis\"].value_counts(dropna=False))\n",
    "\n",
    "print(diagnoses[\"final__amyloid_subtype_diagnosis\"].value_counts(dropna=False))\n",
    "\n",
    "print(diagnoses[\"final__ttr_amyloid_subtype_diagnosis\"].value_counts(dropna=False))\n",
    "\n"
   ]
  },
  {
   "cell_type": "markdown",
   "metadata": {},
   "source": [
    "### Load Clinic Cohort (Includes Chart Review Labels)"
   ]
  },
  {
   "cell_type": "code",
   "execution_count": 5,
   "metadata": {},
   "outputs": [],
   "source": [
    "chart_reviews = pd.read_excel(clinic_cohort_path)\n",
    "assert chart_reviews.shape[0] == len(\n",
    "    chart_reviews[\"ir_id\"].unique()\n",
    "), \"Some patients have more than one record\"\n",
    "# add prefix 'chart_reviews__' to each column except for 'ir_id'\n",
    "chart_reviews = pd.concat(\n",
    "    [\n",
    "        chart_reviews[chart_reviews.columns[0]],\n",
    "        chart_reviews[chart_reviews.columns[1:]].add_prefix(\"chart_reviews__\"),\n",
    "    ],\n",
    "    axis=1,\n",
    ")\n"
   ]
  },
  {
   "cell_type": "markdown",
   "metadata": {},
   "source": [
    "Note that chart review data is all ATTR amyloid. We have TTR subtype label, except in 6 cases, where the TTR subtype is pending. In other words, patients in this data are positive for amyloid, the subtype is TTR, and the TTR subtype is provided by the column \"chart_reviews__Amyloid_type\"."
   ]
  },
  {
   "cell_type": "code",
   "execution_count": null,
   "metadata": {},
   "outputs": [],
   "source": [
    "print(\n",
    "    f'We have {len(chart_reviews[\"ir_id\"].unique())} patients with TTR Amyloid Subtype from Chart review.'\n",
    ")\n",
    "\n",
    "chart_reviews[\"chart_reviews__Amyloid_type\"].value_counts(dropna=False)\n"
   ]
  },
  {
   "cell_type": "markdown",
   "metadata": {},
   "source": [
    "### Load Amyloid program AL data"
   ]
  },
  {
   "cell_type": "code",
   "execution_count": null,
   "metadata": {},
   "outputs": [],
   "source": [
    "amyloid_program_al = pd.read_excel(amyloid_program_al_path)\n",
    "amyloid_program_al.drop_duplicates(inplace=True)\n",
    "amyloid_program_al.rename(\n",
    "    columns={\"Amyloid_type\": \"chart_reviews__Amyloid_type\"}, inplace=True\n",
    ")\n",
    "\n",
    "print(\n",
    "    f'We have {len(amyloid_program_al[\"ir_id\"].unique())} patients with AL Amyloid Subtype from Chart review.'\n",
    ")\n",
    "amyloid_program_al[\"chart_reviews__Amyloid_type\"].value_counts()\n"
   ]
  },
  {
   "cell_type": "markdown",
   "metadata": {},
   "source": [
    "### Merge Chart Review Subtype data"
   ]
  },
  {
   "cell_type": "code",
   "execution_count": null,
   "metadata": {},
   "outputs": [],
   "source": [
    "chart_reviews = pd.concat(\n",
    "    [chart_reviews.copy(deep=True), amyloid_program_al], axis=0, ignore_index=True\n",
    ")\n",
    "assert chart_reviews.shape[0] == len(\n",
    "    chart_reviews[\"ir_id\"].unique()\n",
    "), \"Some patients have more than one record\"\n",
    "# add prefix 'char_review__' to each column except for 'ir_id'\n",
    "\n",
    "print(\n",
    "    f'We have {len(chart_reviews[\"ir_id\"].unique())} patients with Amyloid Subtype from Chart review.'\n",
    ")\n",
    "chart_reviews[\"chart_reviews__Amyloid_type\"].value_counts()\n"
   ]
  },
  {
   "cell_type": "markdown",
   "metadata": {},
   "source": [
    "### Merge Diagnosis and Clinic Cohort\n",
    "\n",
    "We use an outer merge here because some patients are present in clinic cohort and not in diagnosis"
   ]
  },
  {
   "cell_type": "code",
   "execution_count": 9,
   "metadata": {},
   "outputs": [],
   "source": [
    "cohort_labels = diagnoses.merge(chart_reviews, on=\"ir_id\", how=\"outer\")\n"
   ]
  },
  {
   "cell_type": "code",
   "execution_count": 10,
   "metadata": {},
   "outputs": [],
   "source": [
    "# Rename columns\n",
    "cohort_labels.rename(\n",
    "    columns={\n",
    "        \"chart_reviews__Date_of_Diagnosis\": \"chart_reviews__amyloid_diagnosis_date\",\n",
    "    },\n",
    "    inplace=True,\n",
    ")\n",
    "\n",
    "# We map chart review values to label\n",
    "def get_chart_review_amyloid_diagnosis(row):\n",
    "    amyloid_type = row[\"chart_reviews__Amyloid_type\"]\n",
    "    if amyloid_type == \"hTTR\":\n",
    "        return \"POSITIVE\", \"TTR\", \"HTTR\"\n",
    "    elif amyloid_type == \"wTTR\":\n",
    "        return \"POSITIVE\", \"TTR\", \"INDETERMINATE\"\n",
    "    elif amyloid_type == \"TTR - w/u pending\":\n",
    "        return \"POSITIVE\", \"TTR\", \"TTR - w/u pending\"\n",
    "    elif amyloid_type == \"AL\":\n",
    "        return \"POSITIVE\", \"AL\", np.nan\n",
    "    else:\n",
    "        return np.nan, np.nan, np.nan\n",
    "\n",
    "\n",
    "cohort_labels[\n",
    "    [\n",
    "        \"chart_reviews__amyloid_diagnosis\",\n",
    "        \"chart_reviews__amyloid_subtype_diagnosis\",\n",
    "        \"chart_reviews__ttr_amyloid_subtype_diagnosis\",\n",
    "    ]\n",
    "] = cohort_labels.apply(\n",
    "    lambda row: get_chart_review_amyloid_diagnosis(row), axis=1, result_type=\"expand\"\n",
    ")\n",
    "\n"
   ]
  },
  {
   "cell_type": "code",
   "execution_count": null,
   "metadata": {},
   "outputs": [],
   "source": [
    "cohort_labels[\"chart_reviews__amyloid_diagnosis\"].value_counts(dropna=False)\n"
   ]
  },
  {
   "cell_type": "code",
   "execution_count": null,
   "metadata": {},
   "outputs": [],
   "source": [
    "cohort_labels[\"chart_reviews__amyloid_subtype_diagnosis\"].value_counts(dropna=False)\n"
   ]
  },
  {
   "cell_type": "code",
   "execution_count": null,
   "metadata": {},
   "outputs": [],
   "source": [
    "cohort_labels[\"chart_reviews__ttr_amyloid_subtype_diagnosis\"].value_counts(dropna=False)\n"
   ]
  },
  {
   "cell_type": "markdown",
   "metadata": {},
   "source": [
    "The two functions below follow the same decision tree. The logic compares the values from labels and chart review data. `check_label_consistency` returns integer values to help us sift through agreements and disagreements. `combine_labels` returns labels and a date given the information provided by both sources."
   ]
  },
  {
   "cell_type": "code",
   "execution_count": 14,
   "metadata": {},
   "outputs": [],
   "source": [
    "def check_label_consistency(row):\n",
    "    label_CA, label_CA_subtype, label_ATTR_subtype, label_date = (\n",
    "        row[\"final__amyloid_diagnosis\"],\n",
    "        row[\"final__amyloid_subtype_diagnosis\"],\n",
    "        row[\"final__ttr_amyloid_subtype_diagnosis\"],\n",
    "        row[\"final__amyloid_diagnosis_date\"],\n",
    "    )\n",
    "    (\n",
    "        chart_review_CA,\n",
    "        chart_review_CA_subtype,\n",
    "        chart_review_ATTR_subtype,\n",
    "        chart_review_date,\n",
    "    ) = (\n",
    "        row[\"chart_reviews__amyloid_diagnosis\"],\n",
    "        row[\"chart_reviews__amyloid_subtype_diagnosis\"],\n",
    "        row[\"chart_reviews__ttr_amyloid_subtype_diagnosis\"],\n",
    "        row[\"chart_reviews__amyloid_diagnosis_date\"],\n",
    "    )\n",
    "    if pd.isna(chart_review_CA):\n",
    "        return np.nan\n",
    "\n",
    "    assert chart_review_CA == \"POSITIVE\"\n",
    "\n",
    "    if pd.isna(label_CA) or label_CA in [\n",
    "        \"INDETERMINATE\",\n",
    "        \"CHART_REVIEW\",\n",
    "    ]:\n",
    "        # we can keep clinic\n",
    "        # 1: chart review provides new diagnosis\n",
    "        return 1\n",
    "    elif label_CA == \"NEGATIVE\":\n",
    "        # diagnosis clash\n",
    "        # -1: chart review disagrees on diagnosis\n",
    "        return -1\n",
    "    else:\n",
    "        # label is Positive\n",
    "        assert label_CA == \"POSITIVE\", (label_CA, chart_review_CA, row[\"ir_id\"])\n",
    "\n",
    "        # Check the subtypes\n",
    "\n",
    "        # if label has no subtype,\n",
    "        # 2: chart review provides new subtype\n",
    "        if pd.isna(label_CA_subtype) or label_CA_subtype in [\n",
    "            \"INDETERMINATE\",\n",
    "            \"CHART_REVIEW\",\n",
    "        ]:\n",
    "            return 2\n",
    "\n",
    "        # if label subtype is AL, check if chart review is AL or TTR\n",
    "        if label_CA_subtype == \"AL\":\n",
    "\n",
    "            # full agreement for AL\n",
    "            if chart_review_CA_subtype == \"AL\":\n",
    "                return 0\n",
    "            # -2: chart review disagrees on subtype\n",
    "            assert chart_review_CA_subtype == \"TTR\"\n",
    "            return -2\n",
    "\n",
    "        # if label subtype is TTR, check if chart review is AL or TTR.\n",
    "        elif label_CA_subtype == \"TTR\":\n",
    "            # -2: chart review disagrees on subtype\n",
    "            if chart_review_CA_subtype == \"AL\":\n",
    "                return -2\n",
    "\n",
    "            # agreement for TTR, check agreement on TTR subtypes\n",
    "            if chart_review_CA_subtype == \"TTR\":\n",
    "                # check TTR subtype\n",
    "                # 3: chart review provides new ttr subtype\n",
    "                if pd.isna(label_ATTR_subtype) or label_ATTR_subtype == \"CHART_REVIEW\":\n",
    "                    return 3\n",
    "                elif label_ATTR_subtype != chart_review_ATTR_subtype:\n",
    "                    # -3: chart review disagrees on ttr subtype\n",
    "                    if chart_review_ATTR_subtype == \"TTR - w/u pending\":\n",
    "                        # chart review is indeterminate, so keep label.\n",
    "                        # We still flag this as a disagreement.\n",
    "                        return -3\n",
    "                    return -3\n",
    "                else:\n",
    "                    # 0: total agreement\n",
    "                    assert label_ATTR_subtype == chart_review_ATTR_subtype, (\n",
    "                        label_ATTR_subtype,\n",
    "                        chart_review_ATTR_subtype,\n",
    "                        row[\"ir_id\"],\n",
    "                    )\n",
    "                    return 0\n",
    "\n",
    "\n",
    "def combine_labels(row):\n",
    "    label_CA, label_CA_subtype, label_ATTR_subtype, label_date = (\n",
    "        row[\"final__amyloid_diagnosis\"],\n",
    "        row[\"final__amyloid_subtype_diagnosis\"],\n",
    "        row[\"final__ttr_amyloid_subtype_diagnosis\"],\n",
    "        row[\"final__amyloid_diagnosis_date\"],\n",
    "    )\n",
    "    (\n",
    "        chart_review_CA,\n",
    "        chart_review_CA_subtype,\n",
    "        chart_review_ATTR_subtype,\n",
    "        chart_review_date,\n",
    "    ) = (\n",
    "        row[\"chart_reviews__amyloid_diagnosis\"],\n",
    "        row[\"chart_reviews__amyloid_subtype_diagnosis\"],\n",
    "        row[\"chart_reviews__ttr_amyloid_subtype_diagnosis\"],\n",
    "        row[\"chart_reviews__amyloid_diagnosis_date\"],\n",
    "    )\n",
    "    if pd.isna(chart_review_CA):\n",
    "        return (label_CA, label_CA_subtype, label_ATTR_subtype, label_date)\n",
    "\n",
    "    assert chart_review_CA == \"POSITIVE\"\n",
    "\n",
    "    if pd.isna(label_CA) or label_CA in [\n",
    "        \"INDETERMINATE\",\n",
    "        \"CHART_REVIEW\",\n",
    "    ]:\n",
    "        # we can keep clinic\n",
    "        # 1: chart review provides new diagnosis\n",
    "        return (\n",
    "            chart_review_CA,\n",
    "            chart_review_CA_subtype,\n",
    "            chart_review_ATTR_subtype,\n",
    "            chart_review_date if pd.notna(chart_review_date) else label_date,\n",
    "        )\n",
    "    elif label_CA == \"NEGATIVE\":\n",
    "        # diagnosis clash\n",
    "        # -1: chart review disagrees on diagnosis\n",
    "        return (\"CHART_REVIEW\", np.nan, np.nan, pd.NaT)\n",
    "\n",
    "    else:\n",
    "        # label is Positive\n",
    "        assert label_CA == \"POSITIVE\", (label_CA, chart_review_CA, row[\"ir_id\"])\n",
    "\n",
    "        # Check the subtypes\n",
    "\n",
    "        # if label has no subtype,\n",
    "        # 2: chart review provides new subtype\n",
    "        if pd.isna(label_CA_subtype) or label_CA_subtype in [\n",
    "            \"INDETERMINATE\",\n",
    "            \"CHART_REVIEW\",\n",
    "        ]:\n",
    "            return (\n",
    "                label_CA,\n",
    "                chart_review_CA_subtype,\n",
    "                chart_review_ATTR_subtype,\n",
    "                chart_review_date,\n",
    "            )\n",
    "\n",
    "        # if label subtype is AL, check if chart review is AL or TTR\n",
    "        if label_CA_subtype == \"AL\":\n",
    "\n",
    "            # full agreement for AL\n",
    "            if chart_review_CA_subtype == \"AL\":\n",
    "                return (label_CA, label_CA_subtype, label_ATTR_subtype, label_date)\n",
    "\n",
    "            # -2: chart review disagrees on subtype\n",
    "            assert chart_review_CA_subtype == \"TTR\"\n",
    "            return (label_CA, \"CHART_REVIEW\", np.nan, label_date)\n",
    "\n",
    "        # if label subtype is TTR, check if chart review is AL or TTR.\n",
    "        elif label_CA_subtype == \"TTR\":\n",
    "            # -2: chart review disagrees on subtype\n",
    "            if chart_review_CA_subtype == \"AL\":\n",
    "                return (label_CA, \"CHART_REVIEW\", np.nan, label_date)\n",
    "            # agreement for TTR, check agreement on TTR subtypes\n",
    "            if chart_review_CA_subtype == \"TTR\":\n",
    "                # check TTR subtype\n",
    "                # 3: chart review provides new ttr subtype\n",
    "                if pd.isna(label_ATTR_subtype) or label_ATTR_subtype == \"CHART_REVIEW\":\n",
    "                    return (\n",
    "                        label_CA,\n",
    "                        label_CA_subtype,\n",
    "                        chart_review_ATTR_subtype,\n",
    "                        label_date,\n",
    "                    )\n",
    "\n",
    "                elif label_ATTR_subtype != chart_review_ATTR_subtype:\n",
    "                    # -3: chart review disagrees on ttr subtype\n",
    "                    if chart_review_ATTR_subtype == \"TTR - w/u pending\":\n",
    "                        # chart review is indeterminate, so keep label.\n",
    "                        return (\n",
    "                            label_CA,\n",
    "                            label_CA_subtype,\n",
    "                            label_ATTR_subtype,\n",
    "                            label_date,\n",
    "                        )\n",
    "                    return (label_CA, label_CA_subtype, \"CHART_REVIEW\", label_date)\n",
    "                else:\n",
    "                    # 0: total agreement\n",
    "                    assert label_ATTR_subtype == chart_review_ATTR_subtype, (\n",
    "                        label_ATTR_subtype,\n",
    "                        chart_review_ATTR_subtype,\n",
    "                        row[\"ir_id\"],\n",
    "                    )\n",
    "                    return (label_CA, label_CA_subtype, label_ATTR_subtype, label_date)\n"
   ]
  },
  {
   "cell_type": "code",
   "execution_count": 15,
   "metadata": {},
   "outputs": [],
   "source": [
    "cohort_labels[\"merge_chart_reviews_consistency\"] = cohort_labels.apply(\n",
    "    lambda row: check_label_consistency(row), axis=1\n",
    ")\n",
    "cohort_labels[\"merge_chart_reviews_consistency_description\"] = cohort_labels[\n",
    "    \"merge_chart_reviews_consistency\"\n",
    "].map(\n",
    "    {\n",
    "        0: \"total agreement\",\n",
    "        1: \"chart review provides new diagnosis\",\n",
    "        2: \"chart review provides new subtype\",\n",
    "        3: \"chart review provides new ttr subtype\",\n",
    "        -1: \"chart review disagrees on diagnosis\",\n",
    "        -2: \"chart review disagrees on subtype\",\n",
    "        -3: \"chart review disagrees on ttr subtype\",\n",
    "    }\n",
    ")\n",
    "\n",
    "cohort_labels[\n",
    "    [\n",
    "        \"label__amyloid_diagnosis\",\n",
    "        \"label__amyloid_subtype_diagnosis\",\n",
    "        \"label__ttr_amyloid_subtype_diagnosis\",\n",
    "        \"label__amyloid_diagnosis_date\",\n",
    "    ]\n",
    "] = cohort_labels.apply(lambda row: combine_labels(row), axis=1, result_type=\"expand\")\n",
    "\n"
   ]
  },
  {
   "cell_type": "code",
   "execution_count": null,
   "metadata": {},
   "outputs": [],
   "source": [
    "view_columns_2 = [\n",
    "    \"ir_id\",\n",
    "    \"final__amyloid_diagnosis\",\n",
    "    \"final__amyloid_subtype_diagnosis\",\n",
    "    \"final__ttr_amyloid_subtype_diagnosis\",\n",
    "    \"final__amyloid_diagnosis_date\",\n",
    "    \"chart_reviews__amyloid_diagnosis\",\n",
    "    \"chart_reviews__amyloid_subtype_diagnosis\",\n",
    "    \"chart_reviews__ttr_amyloid_subtype_diagnosis\",\n",
    "    \"chart_reviews__amyloid_diagnosis_date\",\n",
    "    \"merge_chart_review_consistency\",\n",
    "    \"merge_chart_review_consistency_description\",\n",
    "    \"label__amyloid_diagnosis\",\n",
    "    \"label__amyloid_subtype_diagnosis\",\n",
    "    \"label__ttr_amyloid_subtype_diagnosis\",\n",
    "    \"label__amyloid_diagnosis_date\",\n",
    "]\n",
    "\n",
    "view_columns = [\n",
    "    \"ir_id\",\n",
    "    \"merge_chart_reviews_consistency\",\n",
    "    \"merge_chart_reviews_consistency_description\",\n",
    "    \"final__amyloid_diagnosis\",\n",
    "    \"chart_reviews__amyloid_diagnosis\",\n",
    "    \"label__amyloid_diagnosis\",\n",
    "    \"final__amyloid_subtype_diagnosis\",\n",
    "    \"chart_reviews__amyloid_subtype_diagnosis\",\n",
    "    \"label__amyloid_subtype_diagnosis\",\n",
    "    \"final__ttr_amyloid_subtype_diagnosis\",\n",
    "    \"chart_reviews__ttr_amyloid_subtype_diagnosis\",\n",
    "    \"label__ttr_amyloid_subtype_diagnosis\",\n",
    "    \"final__amyloid_diagnosis_date\",\n",
    "    \"chart_reviews__amyloid_diagnosis_date\",\n",
    "    \"label__amyloid_diagnosis_date\",\n",
    "]\n",
    "\n",
    "cohort_labels[\n",
    "    (cohort_labels[\"merge_chart_reviews_consistency\"] < 0)\n",
    "][view_columns]\n",
    "\n"
   ]
  },
  {
   "cell_type": "markdown",
   "metadata": {},
   "source": [
    "The following cell can be used to look at all cases where we merged labels with chart review data. Just change `.head()` for the part of the dataframe you want to visualize."
   ]
  },
  {
   "cell_type": "code",
   "execution_count": null,
   "metadata": {},
   "outputs": [],
   "source": [
    "cohort_labels[cohort_labels[\"merge_chart_reviews_consistency\"].notna()][\n",
    "    view_columns\n",
    "].sort_values(\n",
    "    by=[\n",
    "        \"merge_chart_reviews_consistency\",\n",
    "        \"chart_reviews__amyloid_diagnosis\",\n",
    "        \"chart_reviews__amyloid_subtype_diagnosis\",\n",
    "        \"chart_reviews__ttr_amyloid_subtype_diagnosis\",\n",
    "    ]\n",
    ").head()\n"
   ]
  },
  {
   "cell_type": "markdown",
   "metadata": {},
   "source": [
    "#### Counting the patients after this merge"
   ]
  },
  {
   "cell_type": "code",
   "execution_count": null,
   "metadata": {},
   "outputs": [],
   "source": [
    "cohort_labels[\"merge_chart_reviews_consistency_description\"].value_counts()\n"
   ]
  },
  {
   "cell_type": "code",
   "execution_count": null,
   "metadata": {},
   "outputs": [],
   "source": [
    "cohort_labels[\"label__amyloid_diagnosis\"].value_counts(dropna=False)\n"
   ]
  },
  {
   "cell_type": "code",
   "execution_count": null,
   "metadata": {},
   "outputs": [],
   "source": [
    "cohort_labels[\"label__amyloid_subtype_diagnosis\"].value_counts(dropna=False)\n"
   ]
  },
  {
   "cell_type": "code",
   "execution_count": null,
   "metadata": {},
   "outputs": [],
   "source": [
    "cohort_labels[\"label__ttr_amyloid_subtype_diagnosis\"].value_counts(dropna=False)\n"
   ]
  },
  {
   "cell_type": "markdown",
   "metadata": {},
   "source": [
    "# Load Tafamidis Data\n",
    "Patients with Tafamidis have the following label:\n",
    "`POSITIVE` amyloid diagnosis, `TTR` amyloid subtype, `NaN` TTR subtype (unknown). Tafamidis prescriptions are Gold Standard labels."
   ]
  },
  {
   "cell_type": "code",
   "execution_count": 22,
   "metadata": {},
   "outputs": [
    {
     "name": "stderr",
     "output_type": "stream",
     "text": [
      "/tmp/ipykernel_49596/1859674090.py:2: FutureWarning: The error_bad_lines argument has been deprecated and will be removed in a future version. Use on_bad_lines in the future.\n",
      "\n",
      "\n",
      "  cohort_entry = pd.read_csv(cohort_entry_path, sep=\"|\", error_bad_lines=True)\n",
      "/tmp/ipykernel_49596/1859674090.py:2: DtypeWarning: Columns (0) have mixed types. Specify dtype option on import or set low_memory=False.\n",
      "  cohort_entry = pd.read_csv(cohort_entry_path, sep=\"|\", error_bad_lines=True)\n"
     ]
    }
   ],
   "source": [
    "# read file and drop the last 2 rows, containing information from SQL operation\n",
    "cohort_entry = pd.read_csv(cohort_entry_path, sep=\"|\", error_bad_lines=True)\n",
    "cohort_entry.drop(cohort_entry.tail(2).index, inplace=True)\n",
    "cohort_entry[\"ir_id\"] = cohort_entry[\"ir_id\"].astype(int)\n",
    "# only keep ir_id and Tafamidis columns\n",
    "cohort_entry = cohort_entry[\n",
    "    [\"ir_id\", \"Tafamidis_cohort_entry\", \"Tafamidis_cohort_entry_date\"]\n",
    "]\n",
    "assert (\n",
    "    len(cohort_entry.ir_id.unique()) == cohort_entry.shape[0]\n",
    "), \"cohort entry has more than one record per patient\"\n",
    "\n"
   ]
  },
  {
   "cell_type": "markdown",
   "metadata": {},
   "source": [
    "### Merge Labels into Cohort Entry Dataframe "
   ]
  },
  {
   "cell_type": "code",
   "execution_count": 23,
   "metadata": {},
   "outputs": [],
   "source": [
    "cohort = cohort_entry.merge(cohort_labels, on=\"ir_id\", how=\"outer\")\n"
   ]
  },
  {
   "cell_type": "markdown",
   "metadata": {},
   "source": [
    "Tafamidis adds 49 new cases of amyloid, 1 new case to chart review."
   ]
  },
  {
   "cell_type": "code",
   "execution_count": null,
   "metadata": {},
   "outputs": [],
   "source": [
    "cohort[(cohort[\"Tafamidis_cohort_entry\"] == 1)][\n",
    "    \"label__amyloid_diagnosis\"\n",
    "].value_counts(dropna=False)\n",
    "\n"
   ]
  },
  {
   "cell_type": "markdown",
   "metadata": {},
   "source": [
    "We see that Tafamidis adds 1 new cases of TTR, 1 new case to chart review, because it clashes with an AL case."
   ]
  },
  {
   "cell_type": "code",
   "execution_count": null,
   "metadata": {},
   "outputs": [],
   "source": [
    "cohort[\n",
    "    (cohort[\"Tafamidis_cohort_entry\"] == 1)\n",
    "    & (cohort[\"label__amyloid_diagnosis\"] == \"POSITIVE\")\n",
    "][\"label__amyloid_subtype_diagnosis\"].value_counts(dropna=False)\n",
    "\n"
   ]
  },
  {
   "cell_type": "code",
   "execution_count": 26,
   "metadata": {},
   "outputs": [],
   "source": [
    "def merge_tafamidis_with_labels(row, debug=False):\n",
    "    label_CA, label_CA_subtype, label_ATTR_subtype, label_date = (\n",
    "        row[\"label__amyloid_diagnosis\"],\n",
    "        row[\"label__amyloid_subtype_diagnosis\"],\n",
    "        row[\"label__ttr_amyloid_subtype_diagnosis\"],\n",
    "        row[\"label__amyloid_diagnosis_date\"],\n",
    "    )\n",
    "    tafamidis, tafamidis_date = (\n",
    "        row[\"Tafamidis_cohort_entry\"],\n",
    "        row[\"Tafamidis_cohort_entry_date\"],\n",
    "    )\n",
    "\n",
    "    # TAFAMIDIS 0 or NaN, keep label data\n",
    "    if tafamidis != 1:\n",
    "        if debug:\n",
    "            return np.nan\n",
    "        return (label_CA, label_CA_subtype, label_ATTR_subtype, label_date)\n",
    "\n",
    "    assert tafamidis == 1\n",
    "\n",
    "    # TAFAMIDIS 1 and label is missing or inconclusive\n",
    "    # 1: TAFAMIDIS provides new amyloid diagnosis\n",
    "    if pd.isna(label_CA) or label_CA in [\n",
    "        \"INDETERMINATE\",\n",
    "        \"CHART_REVIEW\",\n",
    "    ]:\n",
    "        if debug:\n",
    "            return 1\n",
    "        return (\n",
    "            \"POSITIVE\",\n",
    "            \"TTR\",\n",
    "            np.nan,\n",
    "            tafamidis_date if pd.notna(tafamidis_date) else label_date,\n",
    "        )\n",
    "    # TAFAMIDIS 1 and label NEGATIVE\n",
    "    # -1: TAFAMIDIS disagrees on amyloid diagnosis\n",
    "    elif label_CA == \"NEGATIVE\":\n",
    "        if debug:\n",
    "            return -1\n",
    "        return (\"CHART_REVIEW\", np.nan, np.nan, pd.NaT)\n",
    "\n",
    "    # We have TAFAMIDIS and label is missing or inconclusive\n",
    "    # Check the subtypes\n",
    "    else:\n",
    "        assert label_CA == \"POSITIVE\"\n",
    "\n",
    "        # Label subtype is missing or\n",
    "        # 2: TAFAMIDIS provides new subtype = TTR\n",
    "        if pd.isna(label_CA_subtype) or label_CA_subtype in [\n",
    "            \"INDETERMINATE\",\n",
    "            \"CHART_REVIEW\",\n",
    "        ]:\n",
    "            if debug:\n",
    "                return 2\n",
    "            return (\n",
    "                label_CA,\n",
    "                \"TTR\",\n",
    "                np.nan,\n",
    "                label_date,\n",
    "            )\n",
    "\n",
    "        # if label subtype is AL, TAFAMIDIS clashes with subtype\n",
    "        # -2: TAFAMIDIS => TTR\n",
    "        if label_CA_subtype == \"AL\":\n",
    "            if debug:\n",
    "                return -2\n",
    "            return (label_CA, \"CHART_REVIEW\", np.nan, label_date)\n",
    "\n",
    "        # TA\n",
    "        # 0: total agreement\n",
    "        assert label_CA_subtype == \"TTR\"\n",
    "        if debug:\n",
    "            return 0\n",
    "        return (label_CA, label_CA_subtype, label_ATTR_subtype, label_date)\n",
    "\n"
   ]
  },
  {
   "cell_type": "code",
   "execution_count": 27,
   "metadata": {},
   "outputs": [],
   "source": [
    "cohort[\"merge_tafamidis_consistency\"] = cohort.apply(\n",
    "    lambda row: merge_tafamidis_with_labels(row, debug=True), axis=1\n",
    ")\n",
    "cohort[\"merge_tafamidis_consistency_description\"] = cohort[\n",
    "    \"merge_tafamidis_consistency\"\n",
    "].map(\n",
    "    {\n",
    "        0: \"total agreement\",\n",
    "        1: \"tafamidis provides new diagnosis\",\n",
    "        2: \"tafamidis provides new TTR subtype\",\n",
    "        -1: \"tafamidis disagrees on diagnosis\",\n",
    "        -2: \"tafamidis disagrees on subtype\",\n",
    "    }\n",
    ")\n"
   ]
  },
  {
   "cell_type": "markdown",
   "metadata": {},
   "source": [
    "We see that the label merging function is consistent with out observations, so now we do the merge."
   ]
  },
  {
   "cell_type": "code",
   "execution_count": null,
   "metadata": {},
   "outputs": [],
   "source": [
    "cohort[\"merge_tafamidis_consistency_description\"].value_counts(dropna=False)\n"
   ]
  },
  {
   "cell_type": "markdown",
   "metadata": {},
   "source": [
    "Since we use these column names elsewhere in our code - we overwrite the columns from the previous merge."
   ]
  },
  {
   "cell_type": "code",
   "execution_count": 29,
   "metadata": {},
   "outputs": [
    {
     "name": "stderr",
     "output_type": "stream",
     "text": [
      "/tmp/ipykernel_49596/3836152599.py:8: FutureWarning: Inferring datetime64[ns] from data containing strings is deprecated and will be removed in a future version. To retain the old behavior explicitly pass Series(data, dtype=datetime64[ns])\n",
      "  ] = cohort.apply(\n"
     ]
    }
   ],
   "source": [
    "cohort[\n",
    "    [\n",
    "        \"label__amyloid_diagnosis\",\n",
    "        \"label__amyloid_subtype_diagnosis\",\n",
    "        \"label__ttr_amyloid_subtype_diagnosis\",\n",
    "        \"label__amyloid_diagnosis_date\",\n",
    "    ]\n",
    "] = cohort.apply(\n",
    "    lambda row: merge_tafamidis_with_labels(row, debug=False),\n",
    "    axis=1,\n",
    "    result_type=\"expand\",\n",
    ")\n"
   ]
  },
  {
   "cell_type": "markdown",
   "metadata": {},
   "source": [
    "We just want a label file so cohort entries with no labels can be dropped."
   ]
  },
  {
   "cell_type": "code",
   "execution_count": 30,
   "metadata": {},
   "outputs": [],
   "source": [
    "# drop rows where\n",
    "cohort = cohort[cohort[\"label__amyloid_diagnosis\"].notna()]\n"
   ]
  },
  {
   "cell_type": "markdown",
   "metadata": {},
   "source": [
    "We reorder the columns so that this file is a bit more readable."
   ]
  },
  {
   "cell_type": "code",
   "execution_count": 31,
   "metadata": {},
   "outputs": [],
   "source": [
    "reordered_columns = [\n",
    "    \"ir_id\",\n",
    "    \"cardiac_path__amyloid_diagnosis\",\n",
    "    \"pyp__amyloid_diagnosis\",\n",
    "    \"mayo__amyloid_diagnosis\",\n",
    "    \"mayo__amyloid_subtype_diagnosis\",\n",
    "    \"mayo__ttr_amyloid_subtype_diagnosis\",\n",
    "    \"final__amyloid_diagnosis\",\n",
    "    \"final__amyloid_diagnosis_date\",\n",
    "    \"final__amyloid_subtype_diagnosis\",\n",
    "    \"final__ttr_amyloid_subtype_diagnosis\",\n",
    "    \"chart_reviews__Amyloid_type\",\n",
    "    \"chart_reviews__Method_of_diagnosis\",\n",
    "    \"chart_reviews__amyloid_diagnosis_date\",\n",
    "    \"chart_reviews__Age_at_Diagnosis\",\n",
    "    \"chart_reviews__amyloid_diagnosis\",\n",
    "    \"chart_reviews__amyloid_subtype_diagnosis\",\n",
    "    \"chart_reviews__ttr_amyloid_subtype_diagnosis\",\n",
    "    \"merge_chart_reviews_consistency\",\n",
    "    \"merge_chart_reviews_consistency_description\",\n",
    "    \"Tafamidis_cohort_entry\",\n",
    "    \"Tafamidis_cohort_entry_date\",\n",
    "    \"merge_tafamidis_consistency\",\n",
    "    \"merge_tafamidis_consistency_description\",\n",
    "    \"label__amyloid_diagnosis\",\n",
    "    \"label__amyloid_subtype_diagnosis\",\n",
    "    \"label__ttr_amyloid_subtype_diagnosis\",\n",
    "    \"label__amyloid_diagnosis_date\",\n",
    "]\n"
   ]
  },
  {
   "cell_type": "code",
   "execution_count": 32,
   "metadata": {},
   "outputs": [],
   "source": [
    "cohort = cohort[reordered_columns]\n"
   ]
  },
  {
   "cell_type": "markdown",
   "metadata": {},
   "source": [
    "#### Check Tafamidis or PYP only patients\n",
    "We want to flag patients for chart review in the following cases:\n",
    "- The only positive label we have is from PYP. \n",
    "- The only positive label we have is from tafamidis"
   ]
  },
  {
   "cell_type": "code",
   "execution_count": 33,
   "metadata": {},
   "outputs": [],
   "source": [
    "check_columns_pyp_tafamidis = [\n",
    "    \"pyp__amyloid_diagnosis\",\n",
    "    \"Tafamidis_cohort_entry\",\n",
    "    \"cardiac_path__amyloid_diagnosis\",\n",
    "    \"mayo__amyloid_diagnosis\",\n",
    "    \"chart_reviews__Amyloid_type\",\n",
    "    \"label__amyloid_diagnosis\",\n",
    "    \"label__amyloid_diagnosis_date\",\n",
    "]\n",
    "\n",
    "cohort[\"pyp_or_tafamidis_only\"] = (\n",
    "    (cohort.pyp__amyloid_diagnosis == \"STRONGLY_SUGGESTIVE\")\n",
    "    | (cohort.Tafamidis_cohort_entry == 1)\n",
    ") & (\n",
    "    (cohort.chart_reviews__Amyloid_type.isna())\n",
    "    & (cohort.mayo__amyloid_diagnosis != \"POSITIVE\")\n",
    "    & (~cohort.cardiac_path__amyloid_diagnosis.isin([\"POSITIVE\", \"NEGATIVE\"]))\n",
    ")"
   ]
  },
  {
   "cell_type": "code",
   "execution_count": null,
   "metadata": {},
   "outputs": [],
   "source": [
    "cohort[\"pyp_or_tafamidis_only\"].value_counts(dropna=False)"
   ]
  },
  {
   "cell_type": "code",
   "execution_count": null,
   "metadata": {},
   "outputs": [],
   "source": [
    "cohort[cohort[\"pyp_or_tafamidis_only\"] == True][check_columns_pyp_tafamidis].head()"
   ]
  },
  {
   "cell_type": "markdown",
   "metadata": {},
   "source": [
    "#### Counting the patients after this merge"
   ]
  },
  {
   "cell_type": "code",
   "execution_count": null,
   "metadata": {},
   "outputs": [],
   "source": [
    "cohort[\"label__amyloid_diagnosis\"].value_counts(dropna=False)\n"
   ]
  },
  {
   "cell_type": "code",
   "execution_count": null,
   "metadata": {},
   "outputs": [],
   "source": [
    "cohort[\"label__amyloid_subtype_diagnosis\"].value_counts(dropna=False)\n"
   ]
  },
  {
   "cell_type": "code",
   "execution_count": null,
   "metadata": {},
   "outputs": [],
   "source": [
    "cohort[\"label__ttr_amyloid_subtype_diagnosis\"].value_counts(dropna=False)\n"
   ]
  },
  {
   "cell_type": "markdown",
   "metadata": {},
   "source": [
    "### Saving the data.\n",
    "We save 2 files:\n",
    "- updated labels\n",
    "- a csv with ir_ids for chart review"
   ]
  },
  {
   "cell_type": "markdown",
   "metadata": {},
   "source": [
    "First we get the patients who require chart review. We check columns from diagnosis data and from clinic chart review. We create 2 columns: `review__chart_review` and `label__chart_review`.\n",
    "\n",
    "`diagnosis__chart_review`:\n",
    "- The combination of diagnosis data and clinic chart review data still requires chart review. For example:\n",
    "  - diagnosis data which required chart review was not completed with clinic chart review data.\n",
    "  - diagnosis data and clinic chart review data disagree.\n",
    "\n",
    "`review__chart_review`:\n",
    "- A boolean flag indicating that we want further chart review. it is the union of `label__chart_review` and cases from diagnosis data. In other words, we still flag cases where clinic chart review data completed diagnosis data.\n",
    "- Only 3 of these cases and a few extra chart reviews is feasible."
   ]
  },
  {
   "cell_type": "markdown",
   "metadata": {},
   "source": [
    "This next cell creates a dataframe to collect values from chart review"
   ]
  },
  {
   "cell_type": "code",
   "execution_count": 39,
   "metadata": {},
   "outputs": [],
   "source": [
    "label_columns = [\n",
    "    \"label__amyloid_diagnosis\",\n",
    "    \"label__amyloid_subtype_diagnosis\",\n",
    "    \"label__ttr_amyloid_subtype_diagnosis\",\n",
    "]\n",
    "diagnosis_columns = [\n",
    "    \"final__amyloid_diagnosis\",\n",
    "    \"final__amyloid_subtype_diagnosis\",\n",
    "    \"final__ttr_amyloid_subtype_diagnosis\",\n",
    "]\n",
    "\n",
    "# add a flag for chart review to the cohort df\n",
    "cohort[\"label__chart_review\"] = (\n",
    "    cohort[label_columns + diagnosis_columns] == \"CHART_REVIEW\"\n",
    ").any(axis=\"columns\")\n",
    "cohort[\"diagnosis__chart_review\"] = (cohort[label_columns] == \"CHART_REVIEW\").any(\n",
    "    axis=\"columns\"\n",
    ")"
   ]
  },
  {
   "cell_type": "code",
   "execution_count": 40,
   "metadata": {},
   "outputs": [],
   "source": [
    "# Patient level diagnoses from cardiac path reports, pyp reports, and mayo labs\n",
    "# Merged with clinic chart review labels\n",
    "# This yields the cohort amyloid labels, which are GOLD STANDARD for amyloid diagnosis\n",
    "cohort_amyloid_labels_path = (\n",
    "    PULL_2023 / \"patient_amyloid_diagnosis\" / \"cohort_amyloid_labels.csv\"\n",
    ")\n",
    "\n",
    "cohort.to_csv(cohort_amyloid_labels_path, index=False)"
   ]
  },
  {
   "cell_type": "code",
   "execution_count": null,
   "metadata": {},
   "outputs": [],
   "source": []
  }
 ],
 "metadata": {
  "interpreter": {
   "hash": "b6812947f02ed1b5bfd3d40a76e12757e1dc3ab319bb591b507b0da58db32a2f"
  },
  "kernelspec": {
   "display_name": "Python 3",
   "language": "python",
   "name": "python3"
  },
  "language_info": {
   "codemirror_mode": {
    "name": "ipython",
    "version": 3
   },
   "file_extension": ".py",
   "mimetype": "text/x-python",
   "name": "python",
   "nbconvert_exporter": "python",
   "pygments_lexer": "ipython3",
   "version": "3.8.5"
  }
 },
 "nbformat": 4,
 "nbformat_minor": 4
}
