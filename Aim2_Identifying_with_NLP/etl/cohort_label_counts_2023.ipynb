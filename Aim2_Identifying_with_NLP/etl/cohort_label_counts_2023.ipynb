{
 "cells": [
  {
   "attachments": {},
   "cell_type": "markdown",
   "metadata": {},
   "source": [
    "## Notebook purpose:\n",
    "Count labels in labeled cohort file\n"
   ]
  },
  {
   "cell_type": "code",
   "execution_count": null,
   "metadata": {},
   "outputs": [],
   "source": [
    "import pandas as pd\n",
    "\n",
    "from file_parsing.echomaster_file import load_echomaster\n",
    "from file_parsing.labeled_cohort_file import load_labeled_cohort\n",
    "\n",
    "pd.set_option(\"display.max_colwidth\", None)\n",
    "pd.set_option(\"display.max_rows\", None)"
   ]
  },
  {
   "cell_type": "markdown",
   "metadata": {},
   "source": [
    "### Load Patient Level Labels"
   ]
  },
  {
   "cell_type": "code",
   "execution_count": null,
   "metadata": {},
   "outputs": [],
   "source": [
    "# Read the patient level diagnosis data\n",
    "labels = load_labeled_cohort()\n",
    "\n",
    "# print(labels.columns)\n",
    "# we keep these columns but you can also include columns specific to the datasets:\n",
    "# cardiac path reports, pyp reports, and mayo labs\n",
    "labels = labels[\n",
    "    [\n",
    "        \"ir_id\",\n",
    "        \"label__amyloid_diagnosis_date\",\n",
    "        \"label__amyloid_diagnosis\",\n",
    "        \"label__amyloid_subtype_diagnosis\",\n",
    "        \"label__ttr_amyloid_subtype_diagnosis\",\n",
    "        \"full_chart_review\", # Flag for full chart review\n",
    "        \"label__chart_review\", # Flag for chart review\n",
    "        \"pyp_or_tafamidis_only\", # Flag for pyp or tafamidis\n",
    "        \"Tafamidis_cohort_entry\", # Flag for Tafamidis\n",
    "        \"Amyloidosis\", # Flag for Amyloidosis ICD code\n",
    "        \"label__missing_diagnosis\", # Flag for ICD code but no diagnosis\n",
    "        \"echos_cohort_entry\", # Flag for patient in echos cohort\n",
    "        \"notes_cohort_entry\", # Flag for patient in notes cohort\n",
    "        \"HF_cohort_entry\", # Flag for patient in HF cohort\n",
    "        \"patient_group__amyloid_cases\", # Flag for patient with ICD or confirmed diagnosis\n",
    "        \"patient_group__HF_control\", # Flag for confirmed negative, no ICD, no indeterminate and HF\n",
    "        \"patient_group__non_HF_control\", # Flag for confirmed negative, no ICD, no indeterminate and not HF        \n",
    "    ]\n",
    "]\n",
    "# TODO: Add condition to check if full chart review was done\n",
    "labels[\"label__definitive\"] = labels[\"label__amyloid_diagnosis\"].isin([\"POSITIVE\", \"NEGATIVE\"]).astype(int)\n"
   ]
  },
  {
   "cell_type": "code",
   "execution_count": null,
   "metadata": {},
   "outputs": [],
   "source": [
    "labels.ir_id.nunique()"
   ]
  },
  {
   "cell_type": "code",
   "execution_count": null,
   "metadata": {},
   "outputs": [],
   "source": [
    "labels.label__chart_review.value_counts()"
   ]
  },
  {
   "cell_type": "code",
   "execution_count": null,
   "metadata": {},
   "outputs": [],
   "source": [
    "print(\n",
    "    f'We have {len(labels[\"ir_id\"].unique())} patients with a gold standard amyloid diagnosis.'\n",
    ")\n",
    "\n",
    "print(labels[\"label__amyloid_diagnosis\"].value_counts(dropna=False))\n",
    "\n",
    "print(labels[\"label__definitive\"].value_counts(dropna=False))\n",
    "\n",
    "print(\n",
    "    labels[labels[\"label__amyloid_diagnosis\"] == \"POSITIVE\"][\n",
    "        \"label__amyloid_subtype_diagnosis\"\n",
    "    ].value_counts(dropna=False)\n",
    ")\n",
    "\n",
    "print(\n",
    "    labels[labels[\"label__amyloid_subtype_diagnosis\"] == \"TTR\"][\n",
    "        \"label__ttr_amyloid_subtype_diagnosis\"\n",
    "    ].value_counts(dropna=False)\n",
    ")"
   ]
  },
  {
   "cell_type": "code",
   "execution_count": null,
   "metadata": {},
   "outputs": [],
   "source": [
    "print(\n",
    "    f'We have {len(labels[labels[\"Tafamidis_cohort_entry\"]==1][\"ir_id\"].unique())} patients with Amyloid because they take Tafimifis medication.'\n",
    ")\n",
    "print(\n",
    "    f'We have {len(labels[labels[\"pyp_or_tafamidis_only\"]==1][\"ir_id\"].unique())} patients with Amyloid because they take Tafimifis medication or have positive PYP only.'\n",
    ")\n",
    "print(\n",
    "    f'We have {len(labels[\"ir_id\"].unique())} patients in the cohort.'\n",
    ")"
   ]
  },
  {
   "cell_type": "code",
   "execution_count": null,
   "metadata": {},
   "outputs": [],
   "source": [
    "print(\n",
    "    f'We have {len(labels[labels[\"Amyloidosis\"] == 1][\"ir_id\"].unique())} patients with an Amyloid ICD code.'\n",
    ")\n",
    "\n"
   ]
  },
  {
   "cell_type": "code",
   "execution_count": null,
   "metadata": {},
   "outputs": [],
   "source": [
    "labels[\"Amyloidosis\"].value_counts(dropna=False)"
   ]
  },
  {
   "cell_type": "code",
   "execution_count": null,
   "metadata": {},
   "outputs": [],
   "source": [
    "labels[\"label__missing_diagnosis\"].value_counts(dropna=False)"
   ]
  },
  {
   "attachments": {},
   "cell_type": "markdown",
   "metadata": {},
   "source": [
    "#### Load Echos Data"
   ]
  },
  {
   "cell_type": "code",
   "execution_count": null,
   "metadata": {},
   "outputs": [],
   "source": [
    "echos = load_echomaster()\n",
    "\n",
    "# filter the echos to keep studies that are not limited and that have desired desired type \n",
    "keep_echo_types = [\"Transthoracic\", \"Exercise Stress\", \"Pharmacological Stress\", \"Stress Type Unknown\"] \n",
    "echos = echos.loc[(echos[\"echo_type\"].isin(keep_echo_types)) & (echos[\"limited_echo\"] == 0)]\n",
    "# drop records with an echo extractor id\n",
    "echos = echos[echos[\"echo_extractor_id\"].isna()]\n",
    "# sort chronologically so that the aggregation gives us a list of echos information in chronological order\n",
    "echos.sort_values(by=['echo_date'], inplace=True)\n",
    "\n",
    "# Group Rows into List on All columns\n",
    "echos_by_patient = echos.groupby(\"ir_id\").agg(list)\n",
    "echos_by_patient.reset_index(inplace=True)"
   ]
  },
  {
   "cell_type": "code",
   "execution_count": null,
   "metadata": {},
   "outputs": [],
   "source": [
    "print(\n",
    "    f'We have {len(echos)} echos.'\n",
    ")\n",
    "print(\n",
    "    f'We have {len(echos_by_patient[\"ir_id\"].unique())} patients with echos.'\n",
    ")\n",
    "\n",
    "print(\n",
    "    f'We have {len(labels[labels[\"echos_cohort_entry\"]==1])} patients with echos in the cohort.'\n",
    ")"
   ]
  },
  {
   "cell_type": "markdown",
   "metadata": {},
   "source": [
    "### Load Notes Data"
   ]
  },
  {
   "cell_type": "code",
   "execution_count": null,
   "metadata": {},
   "outputs": [],
   "source": [
    "labels.label__amyloid_diagnosis.value_counts(dropna=False)"
   ]
  },
  {
   "cell_type": "code",
   "execution_count": null,
   "metadata": {},
   "outputs": [],
   "source": [
    "labels[labels.label__amyloid_diagnosis == \"POSITIVE\"].label__amyloid_subtype_diagnosis.value_counts(dropna=False)"
   ]
  },
  {
   "cell_type": "code",
   "execution_count": null,
   "metadata": {},
   "outputs": [],
   "source": [
    "labels[labels.label__amyloid_subtype_diagnosis == \"TTR\"].label__ttr_amyloid_subtype_diagnosis.value_counts(dropna=False)"
   ]
  },
  {
   "cell_type": "code",
   "execution_count": null,
   "metadata": {},
   "outputs": [],
   "source": [
    "labels[labels.echos_cohort_entry == 1].label__amyloid_diagnosis.value_counts(dropna=False)"
   ]
  },
  {
   "cell_type": "code",
   "execution_count": null,
   "metadata": {},
   "outputs": [],
   "source": [
    "labels[labels.notes_cohort_entry == 1].label__amyloid_diagnosis.value_counts(dropna=False)"
   ]
  },
  {
   "cell_type": "code",
   "execution_count": null,
   "metadata": {},
   "outputs": [],
   "source": [
    "# ICD code\n",
    "labels.Amyloidosis.value_counts(dropna=False)"
   ]
  },
  {
   "cell_type": "code",
   "execution_count": null,
   "metadata": {},
   "outputs": [],
   "source": [
    "labels.pyp_or_tafamidis_only.value_counts(dropna=False)"
   ]
  },
  {
   "cell_type": "code",
   "execution_count": null,
   "metadata": {},
   "outputs": [],
   "source": [
    "labels.patient_group__amyloid_cases.value_counts(dropna=False)\n"
   ]
  },
  {
   "cell_type": "code",
   "execution_count": null,
   "metadata": {},
   "outputs": [],
   "source": [
    "labels.patient_group__HF_control.value_counts(dropna=False)"
   ]
  },
  {
   "cell_type": "code",
   "execution_count": null,
   "metadata": {},
   "outputs": [],
   "source": [
    "labels.patient_group__non_HF_control.value_counts(dropna=False)"
   ]
  },
  {
   "cell_type": "code",
   "execution_count": null,
   "metadata": {},
   "outputs": [],
   "source": []
  }
 ],
 "metadata": {
  "kernelspec": {
   "display_name": "etl",
   "language": "python",
   "name": "python3"
  },
  "language_info": {
   "codemirror_mode": {
    "name": "ipython",
    "version": 3
   },
   "file_extension": ".py",
   "mimetype": "text/x-python",
   "name": "python",
   "nbconvert_exporter": "python",
   "pygments_lexer": "ipython3",
   "version": "3.9.16"
  },
  "vscode": {
   "interpreter": {
    "hash": "de028c5a003b0778b81b462afd58d9616ee73722a5cbaf6618f6f5d5d2920625"
   }
  }
 },
 "nbformat": 4,
 "nbformat_minor": 4
}
