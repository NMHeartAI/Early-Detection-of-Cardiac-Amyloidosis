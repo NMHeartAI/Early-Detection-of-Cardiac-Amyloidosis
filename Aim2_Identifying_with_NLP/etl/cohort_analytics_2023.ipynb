{
 "cells": [
  {
   "attachments": {},
   "cell_type": "markdown",
   "metadata": {},
   "source": [
    "## Notebook purpose:\n",
    "In this notebook we link patient level data (amyloid diagnosis labbels, echos data, demographics, icd codes, clinical notes) to patients in our cohort. We then perform cohort analytics.\n",
    "\n",
    "## Datasets:\n",
    "\n",
    "* **Amyloidosis Patients Cohort Entry Labels** is the list of patients in our cohort with labels. We created labels from 2 sources, **cohort patient labels** and **Amyloidosis Patients Cohort Entry**. We want to link patient level data to each patient in the cohort.\n",
    "   * **cohort patient labels** are labels obtained from 3 sources:\n",
    "     * Labels from Mayo Reports, Cardiac Path Reports, Pyp Reports\n",
    "     * Labels from clinical chart review for TTR\n",
    "     * Labels from clinical chart review for AL\n",
    "  * **Amyloidosis Patients Cohort Entry** is the list of patients in our cohort. We want to link patient level data to each patient in the cohort. Includes a column that indicates if a patient has been prescribed **Tafamidis**. This drug is prescribed for TTR Amyloidosis (hTTR and wTTR).\n",
    " \n",
    "* **Amyloidosis Patients EchoMaster** links patients to echo data. We care about organizing echos for a patient with respect to a diagnosis date.\n",
    "\n",
    "* **Amyloidosis Patients HF_Subtype** links patients to Amyloid ICD codes. We care about the column indicating if a patient has an Amyloid ICD code - SILVER STANDARD for amyloid diagnosis\n",
    "\n",
    "* **Amyloidosis Patients Demographics** links patients to demographics data. We care about the column indicating a patient's age at cohort entry.\n",
    "\n",
    "* **Amyloidosis Patients OutpatientNotesDeid** links patients to clinical notes data.\n",
    "\n",
    "### Output\n",
    "**Amyloidosis Patients Cohort Entry - Labeled** is the dataframe for patients in our cohort.\n",
    "\n",
    "The columns are described below:\n",
    "*ICD Codes*\n",
    "* `amyloidosis_ICD_code`: 1 if patient has an amyloidosis ICD code, else 0.\n",
    "\n",
    "*Demographics*\n",
    "* `Age_cohort`: patient age at cohort entry\n",
    "\n",
    "*Label Columns*\n",
    "* `label__amyloid_diagnosis`: Confirmed diagnosis for amyloid. Values: POSITIVE, NEGATIVE, INDETERMINATE, CHART_REVIEW.\n",
    "* `label__amyloid_subtype_diagnosis`: Confirmed diagnosis for amyloid subtype. Values: TTR, AL, INDETERMINATE, CHART_REVIEW, NaN.\n",
    "* `label__ttr_amyloid_subtype_diagnosis`: Confirmed diagnosis for TTR amyloid subtype. Values: HTTR, INDETERMINATE (defaults to WTTR), CHART_REVIEW, NaN.\n",
    "* `label__amyloid_diagnosis_date`: Date of confirmed diagnosis.\n",
    "* `full_chart_review`: 1 if we have the latest chart review information.\n",
    "* `label__definitive`: 1 for `label__amyloid_diagnosis` with value POSITIVE or NEGATIVE, else 0.\n",
    "* `label__missing_diagnosis`: 1 if `label__definitive` with value 0 and `amyloidosis_ICD_code` with value 1 and `full_chart_review` with value 0, else 0.\n",
    "\n",
    "*Echos*\n",
    "* `echos_cohort_entry`: 1 if patient has echos of interest in EchoMaster.csv, else 0.\n",
    "\n",
    "*Notes*\n",
    "* `notes_cohort_entry`: 1 if patient has clinical notes in Amyloidosis Patients OutpatientNotesDeid.csv, else 0.\n",
    "\n",
    "*Amyloid Cases*\n",
    "* `patient_group__amyloid_cases`: 1 if patient `label__amyloid_diagnosis` value is POSITIVE or `amyloidosis_ICD_code`  value is 1 and `label__amyloid_diagnosis` value is not NEGATIVE.\n",
    "\n",
    "*Controls*\n",
    "* `patient_group__HF_control`: 1 if `HF_cohort_entry` value is 1 and `patient_group__amyloid_cases` is not 1\n",
    "* `patient_group__non_HF_control`: 1 if `HF_cohort_entry` value is NaN and `patient_group__amyloid_cases` is not 1\n"
   ]
  },
  {
   "cell_type": "code",
   "execution_count": 1,
   "metadata": {},
   "outputs": [],
   "source": [
    "import pandas as pd\n",
    "from pathlib import Path\n",
    "\n",
    "from file_parsing.cohort_file import load_cohort_entry\n",
    "from file_parsing.echomaster_file import load_echomaster\n",
    "from file_parsing.hf_subtype_file import load_hf_subtype\n",
    "from file_parsing.demographics_file import load_demographics\n",
    "\n",
    "pd.set_option(\"display.max_colwidth\", None)\n",
    "pd.set_option(\"display.max_rows\", None)"
   ]
  },
  {
   "cell_type": "code",
   "execution_count": 2,
   "metadata": {},
   "outputs": [],
   "source": [
    "# The path to the Amyloid data\n",
    "DATASET_PATH = Path(\"/data/datasets/Amyloidosis/\")\n",
    "\n",
    "# File with echos data\n",
    "echo_master_path = DATASET_PATH / \"Amyloidosis Patients EchoMaster.csv\"\n",
    "\n",
    "# File with patient ICD codes - we care about the column indicating if a patient has an Amyloid ICD code - SILVER STANDARD for amyloid diagnosis\n",
    "hf_subtype_path = DATASET_PATH / \"Amyloidosis Patients HF_Subtype.csv\"\n",
    "\n",
    "# File with patient demographics - we care about the column indicating patient age at cohort entry\n",
    "demographics_path = DATASET_PATH / \"Amyloidosis Patients Demographics.csv\"\n",
    "\n",
    "# The cohort file to which we add diagnosis and demographic info\n",
    "cohort_entry_path = DATASET_PATH / \"Amyloidosis Patients Cohort Entry.csv\"\n",
    "\n",
    "# clinical notes\n",
    "notes_path = DATASET_PATH / \"Amyloidosis Patients OutpatientNotesDeid.csv\"\n",
    "\n",
    "\"\"\" \n",
    "Cohort amyloid labels before chart review\n",
    "amyloid_diagnosis_labels_path = (\n",
    "    DATASET_PATH\n",
    "    / \"patient_amyloid_diagnosis\"\n",
    "    / \"cohort_amyloid_labels.csv\"\n",
    ")\n",
    "\"\"\"\n",
    "\n",
    "# Cohort amyloid labels after chart review\n",
    "chart_reviewed_cohort_amyloid_labels_path = (\n",
    "    DATASET_PATH / \"2023 pull\" / \"patient_amyloid_diagnosis\" / \"cohort_amyloid_labels__chart_reviewed_2023.csv\"# \"cohort_amyloid_labels__chart_reviewed.csv\"\n",
    ")\n"
   ]
  },
  {
   "cell_type": "markdown",
   "metadata": {},
   "source": [
    "### Load Patient Level Labels"
   ]
  },
  {
   "cell_type": "code",
   "execution_count": 3,
   "metadata": {},
   "outputs": [
    {
     "name": "stdout",
     "output_type": "stream",
     "text": [
      "Index(['ir_id', 'label__amyloid_diagnosis', 'label__amyloid_subtype_diagnosis',\n",
      "       'label__ttr_amyloid_subtype_diagnosis', 'label__amyloid_diagnosis_date',\n",
      "       'full_chart_review', 'pyp_or_tafamidis_only', 'label__chart_review',\n",
      "       'diagnosis__chart_review', 'cardiac_path__amyloid_diagnosis',\n",
      "       'pyp__amyloid_diagnosis', 'mayo__amyloid_diagnosis',\n",
      "       'mayo__amyloid_subtype_diagnosis',\n",
      "       'mayo__ttr_amyloid_subtype_diagnosis', 'final__amyloid_diagnosis',\n",
      "       'final__amyloid_diagnosis_date', 'final__amyloid_subtype_diagnosis',\n",
      "       'final__ttr_amyloid_subtype_diagnosis', 'chart_reviews__Amyloid_type',\n",
      "       'chart_reviews__Method_of_diagnosis',\n",
      "       'chart_reviews__amyloid_diagnosis_date',\n",
      "       'chart_reviews__Age_at_Diagnosis', 'chart_reviews__amyloid_diagnosis',\n",
      "       'chart_reviews__amyloid_subtype_diagnosis',\n",
      "       'chart_reviews__ttr_amyloid_subtype_diagnosis',\n",
      "       'merge_chart_reviews_consistency',\n",
      "       'merge_chart_reviews_consistency_description', 'Tafamidis_cohort_entry',\n",
      "       'Tafamidis_cohort_entry_date', 'merge_tafamidis_consistency',\n",
      "       'merge_tafamidis_consistency_description',\n",
      "       'full_chart_reviews__suggested_label',\n",
      "       'full_chart_reviews__document_description',\n",
      "       'full_chart_reviews__priority', 'full_chart_reviews__amyloid_type',\n",
      "       'full_chart_reviews__diagnosis_method',\n",
      "       'full_chart_reviews__diagnosis_date_norm',\n",
      "       'full_chart_reviews__AL_cardiac_test', 'full_chart_reviews__Notes'],\n",
      "      dtype='object')\n"
     ]
    }
   ],
   "source": [
    "# Read the patient level diagnosis data\n",
    "labels = pd.read_csv(chart_reviewed_cohort_amyloid_labels_path)\n",
    "\n",
    "print(labels.columns)\n",
    "# we keep these columns but you can also include columns specific to the datasets:\n",
    "# cardiac path reports, pyp reports, and mayo labs\n",
    "labels = labels[\n",
    "    [\n",
    "        \"ir_id\",\n",
    "        \"label__amyloid_diagnosis_date\",\n",
    "        \"label__amyloid_diagnosis\",\n",
    "        \"label__amyloid_subtype_diagnosis\",\n",
    "        \"label__ttr_amyloid_subtype_diagnosis\",\n",
    "        \"full_chart_review\", # Flag for full chart review\n",
    "        \"label__chart_review\", # Flag for chart review\n",
    "        \"pyp_or_tafamidis_only\", # Flag for pyp or tafamidis\n",
    "        \n",
    "    ]\n",
    "]\n",
    "labels[\"label__amyloid_diagnosis_date\"] = pd.to_datetime(\n",
    "    labels[\"label__amyloid_diagnosis_date\"]\n",
    ")\n",
    "\n",
    "# TODO: Add condition to check if full chart review was done\n",
    "labels[\"label__definitive\"] = labels[\"label__amyloid_diagnosis\"].isin([\"POSITIVE\", \"NEGATIVE\"]).astype(int)\n"
   ]
  },
  {
   "cell_type": "code",
   "execution_count": null,
   "metadata": {},
   "outputs": [],
   "source": [
    "labels.label__chart_review.value_counts()"
   ]
  },
  {
   "cell_type": "code",
   "execution_count": null,
   "metadata": {},
   "outputs": [],
   "source": [
    "print(\n",
    "    f'We have {len(labels[\"ir_id\"].unique())} patients with a gold standard amyloid diagnosis.'\n",
    ")\n",
    "\n",
    "print(labels[\"label__amyloid_diagnosis\"].value_counts(dropna=False))\n",
    "\n",
    "print(labels[\"label__definitive\"].value_counts(dropna=False))\n",
    "\n",
    "print(\n",
    "    labels[labels[\"label__amyloid_diagnosis\"] == \"POSITIVE\"][\n",
    "        \"label__amyloid_subtype_diagnosis\"\n",
    "    ].value_counts(dropna=False)\n",
    ")\n",
    "\n",
    "print(\n",
    "    labels[labels[\"label__amyloid_subtype_diagnosis\"] == \"TTR\"][\n",
    "        \"label__ttr_amyloid_subtype_diagnosis\"\n",
    "    ].value_counts(dropna=False)\n",
    ")"
   ]
  },
  {
   "cell_type": "markdown",
   "metadata": {},
   "source": [
    "### Load Cohort Entry (Includes Tafimidis)"
   ]
  },
  {
   "cell_type": "code",
   "execution_count": 6,
   "metadata": {},
   "outputs": [],
   "source": [
    "# read file and drop the last 2 rows, containing information from SQL operation\n",
    "cohort_entry = load_cohort_entry()\n",
    "assert len(cohort_entry.ir_id.unique()) == cohort_entry.shape[0], \"cohort entry has more than one record per patient\"\n",
    "\n"
   ]
  },
  {
   "cell_type": "code",
   "execution_count": null,
   "metadata": {},
   "outputs": [],
   "source": [
    "print(\n",
    "    f'We have {len(cohort_entry[cohort_entry[\"Tafamidis_cohort_entry\"]==1][\"ir_id\"].unique())} patients with Amyloid because they take Tafimifis medication.'\n",
    ")\n",
    "print(\n",
    "    f'We have {len(cohort_entry[\"ir_id\"].unique())} patients in the cohort.'\n",
    ")"
   ]
  },
  {
   "cell_type": "markdown",
   "metadata": {},
   "source": [
    "### Load HF Subtype (ICD Codes)"
   ]
  },
  {
   "cell_type": "code",
   "execution_count": 8,
   "metadata": {},
   "outputs": [],
   "source": [
    "# read file and drop the last 2 rows, containing information from SQL operation\n",
    "hf_subtype = load_hf_subtype()"
   ]
  },
  {
   "cell_type": "code",
   "execution_count": null,
   "metadata": {},
   "outputs": [],
   "source": [
    "print(\n",
    "    f'We have {len(hf_subtype[hf_subtype[\"Amyloidosis\"] == 1][\"ir_id\"].unique())} patients with an Amyloid ICD code.'\n",
    ")\n",
    "\n"
   ]
  },
  {
   "cell_type": "markdown",
   "metadata": {},
   "source": [
    "### Load Demographics Data"
   ]
  },
  {
   "cell_type": "code",
   "execution_count": 10,
   "metadata": {},
   "outputs": [],
   "source": [
    "# read file and drop the last 2 rows, containing information from SQL operation\n",
    "demographics = load_demographics()"
   ]
  },
  {
   "cell_type": "markdown",
   "metadata": {},
   "source": [
    "### Create labeled cohort file"
   ]
  },
  {
   "cell_type": "code",
   "execution_count": 11,
   "metadata": {},
   "outputs": [],
   "source": [
    "cohort = cohort_entry.merge(labels, on=\"ir_id\", how=\"left\")\n",
    "cohort = cohort.merge(hf_subtype, on=\"ir_id\", how=\"left\")\n",
    "cohort = cohort.merge(demographics, on=\"ir_id\", how=\"left\")\n",
    "\n",
    "# These columns have value 1 if True, 0 if False, or NaN (due to the merge)\n",
    "# Filling NaN with 0 will help with operations between these columns\n",
    "cohort[\"label__definitive\"].fillna(0, inplace=True)\n",
    "cohort[\"label__definitive\"]= cohort[\"label__definitive\"].astype(int)\n",
    "cohort[\"label__chart_review\"].fillna(0, inplace=True)\n",
    "cohort[\"label__chart_review\"]= cohort[\"label__chart_review\"].astype(int)\n",
    "cohort[\"pyp_or_tafamidis_only\"].fillna(0, inplace=True)\n",
    "cohort[\"pyp_or_tafamidis_only\"]= cohort[\"pyp_or_tafamidis_only\"].astype(int)\n",
    "\n",
    "cohort[\"Tafamidis_cohort_entry\"].fillna(0, inplace=True)\n",
    "cohort[\"Tafamidis_cohort_entry\"]= cohort[\"Tafamidis_cohort_entry\"].astype(int)\n",
    "\n",
    "cohort[\"Amyloidosis\"].fillna(0, inplace=True)\n",
    "cohort[\"Amyloidosis\"]= cohort[\"Amyloidosis\"].astype(int)\n",
    "\n",
    "#TODO: Add new columns from the full chart review\n",
    "cohort[\"full_chart_review\"].fillna(0, inplace=True)\n",
    "cohort[\"full_chart_review\"]= cohort[\"full_chart_review\"].astype(int)"
   ]
  },
  {
   "cell_type": "code",
   "execution_count": 12,
   "metadata": {},
   "outputs": [
    {
     "data": {
      "text/plain": [
       "Index(['ir_id', 'HF_cohort_entry', 'HF_cohort_entry_date', 'CA_cohort_entry',\n",
       "       'CA_cohort_entry_date', 'CM_cohort_entry', 'CM_cohort_entry_date',\n",
       "       'PYP_cohort_entry', 'PYP_cohort_entry_date', 'Tafamidis_cohort_entry',\n",
       "       'Tafamidis_cohort_entry_date', 'cMRI_cohort_entry',\n",
       "       'cMRI_cohort_entry_date', 'HF_stricter_definition_date',\n",
       "       'label__amyloid_diagnosis_date', 'label__amyloid_diagnosis',\n",
       "       'label__amyloid_subtype_diagnosis',\n",
       "       'label__ttr_amyloid_subtype_diagnosis', 'full_chart_review',\n",
       "       'label__chart_review', 'pyp_or_tafamidis_only', 'label__definitive',\n",
       "       'HFdx', 'HFdx_date', 'Age_HFdx_date', 'HF_Dx_setting', 'HFrEF_anytime',\n",
       "       'HFrEF_anytime_echodate', 'HFrEF', 'HFrEF_initialechodate', 'HFmEF',\n",
       "       'HFmEF_initialechodate', 'HFrecEF', 'HFrecEF_initialechodate',\n",
       "       'HFrecEF_followupecho', 'HFrecEF_daystorec', 'HFpEF',\n",
       "       'HFpEF_initialechodate', 'Ischemic_cardiomyopathy',\n",
       "       'ischemic_cardiomyopathy_date', 'Non_ischemic_cardiomyopathy',\n",
       "       'Non_ischemic_cardiomyopathy_code',\n",
       "       'Non_ischemic_cardiomyopathy_code_date', 'Amyloidosis',\n",
       "       'Amyloidosis_code', 'Amyloidosis_code_date', 'Sarcoidosis',\n",
       "       'Sarcoidosis_code', 'Sarcoidosis_code_date', 'Scleroderma',\n",
       "       'Scleroderma_code', 'Scleroderma_code_date', 'Age_cohort', 'Gender_EDW',\n",
       "       'Race_EDW', 'Ethnicity_EDW', 'race_ethncty_combined',\n",
       "       'Insurance_EDW_cohort', 'Insurance_Mapped_cohort'],\n",
       "      dtype='object')"
      ]
     },
     "execution_count": 12,
     "metadata": {},
     "output_type": "execute_result"
    }
   ],
   "source": [
    "cohort.columns"
   ]
  },
  {
   "cell_type": "code",
   "execution_count": 13,
   "metadata": {},
   "outputs": [],
   "source": [
    "cohort[\"label__missing_diagnosis\"] = (\n",
    "    ~cohort[\"label__definitive\"]\n",
    "    & cohort[\"Amyloidosis\"]\n",
    "    & ~cohort[\"full_chart_review\"]\n",
    ")\n",
    "\n"
   ]
  },
  {
   "cell_type": "code",
   "execution_count": null,
   "metadata": {},
   "outputs": [],
   "source": [
    "cohort[\"label__missing_diagnosis\"].value_counts(dropna=False)"
   ]
  },
  {
   "cell_type": "markdown",
   "metadata": {},
   "source": [
    "### Load Echos Data"
   ]
  },
  {
   "cell_type": "code",
   "execution_count": 15,
   "metadata": {},
   "outputs": [],
   "source": [
    "echos = load_echomaster()\n",
    "\n",
    "# filter the echos to keep studies that are not limited and that have desired desired type \n",
    "keep_echo_types = [\"Transthoracic\", \"Exercise Stress\", \"Pharmacological Stress\", \"Stress Type Unknown\"] \n",
    "echos = echos.loc[(echos[\"echo_type\"].isin(keep_echo_types)) & (echos[\"limited_echo\"] == 0)]\n",
    "# drop records with an echo extractor id\n",
    "echos = echos[echos[\"echo_extractor_id\"].isna()]\n",
    "# sort chronologically so that the aggregation gives us a list of echos information in chronological order\n",
    "echos.sort_values(by=['echo_date'], inplace=True)\n",
    "\n",
    "# Group Rows into List on All columns\n",
    "echos_by_patient = echos.groupby(\"ir_id\").agg(list)\n",
    "echos_by_patient.reset_index(inplace=True)"
   ]
  },
  {
   "cell_type": "code",
   "execution_count": null,
   "metadata": {},
   "outputs": [],
   "source": [
    "print(\n",
    "    f'We have {len(echos)} echos.'\n",
    ")\n",
    "print(\n",
    "    f'We have {len(echos_by_patient[\"ir_id\"].unique())} patients with echos.'\n",
    ")"
   ]
  },
  {
   "cell_type": "markdown",
   "metadata": {},
   "source": [
    "### Add Echos Flag to Cohort"
   ]
  },
  {
   "cell_type": "code",
   "execution_count": 17,
   "metadata": {},
   "outputs": [],
   "source": [
    "ir_id_with_echo = pd.DataFrame(\n",
    "    {\n",
    "        \"ir_id\": echos.ir_id.unique(),\n",
    "        \"echos_cohort_entry\": 1\n",
    "    }\n",
    ")\n",
    "cohort = cohort.merge(ir_id_with_echo, on=\"ir_id\", how=\"left\")\n",
    "cohort[\"echos_cohort_entry\"].fillna(0, inplace=True)\n",
    "cohort[\"echos_cohort_entry\"] = cohort[\"echos_cohort_entry\"].astype(int)"
   ]
  },
  {
   "cell_type": "code",
   "execution_count": null,
   "metadata": {},
   "outputs": [],
   "source": [
    "cohort[\"echos_cohort_entry\"].value_counts(dropna=False)"
   ]
  },
  {
   "cell_type": "markdown",
   "metadata": {},
   "source": [
    "### Load Notes Data"
   ]
  },
  {
   "cell_type": "code",
   "execution_count": 19,
   "metadata": {},
   "outputs": [],
   "source": [
    "notes = pd.read_csv(notes_path)\n",
    "notes[\"created_date_key\"] = pd.to_datetime(notes[\"created_date_key\"])\n",
    "# sort chronologically so that the aggregation gives us a list of notes information in chronological order\n",
    "notes.sort_values(by=[\"ir_id\", \"created_date_key\"], inplace=True)\n"
   ]
  },
  {
   "cell_type": "markdown",
   "metadata": {},
   "source": [
    "### Add Notes Flag to Cohort"
   ]
  },
  {
   "cell_type": "code",
   "execution_count": 20,
   "metadata": {},
   "outputs": [],
   "source": [
    "ir_id_with_notes = pd.DataFrame(\n",
    "    {\n",
    "        \"ir_id\": notes.ir_id.unique(),\n",
    "        \"notes_cohort_entry\": 1\n",
    "    }\n",
    ")\n",
    "cohort = cohort.merge(ir_id_with_notes, on=\"ir_id\", how=\"left\")\n",
    "cohort[\"notes_cohort_entry\"].fillna(0, inplace=True)\n",
    "cohort[\"notes_cohort_entry\"] = cohort[\"notes_cohort_entry\"].astype(int)"
   ]
  },
  {
   "cell_type": "code",
   "execution_count": null,
   "metadata": {},
   "outputs": [],
   "source": [
    "cohort[\"notes_cohort_entry\"].value_counts(dropna=False)"
   ]
  },
  {
   "cell_type": "markdown",
   "metadata": {},
   "source": [
    "### Save Cohort File"
   ]
  },
  {
   "cell_type": "code",
   "execution_count": 22,
   "metadata": {},
   "outputs": [],
   "source": [
    "# The cohort file to which we add diagnosis and demographic info\n",
    "labeled_cohort_path = DATASET_PATH / \"2023 pull\" / \"Amyloidosis Patients Cohort Entry.csv\""
   ]
  },
  {
   "cell_type": "code",
   "execution_count": null,
   "metadata": {},
   "outputs": [],
   "source": [
    "cohort[\"label__amyloid_diagnosis\"].value_counts(dropna=False)"
   ]
  },
  {
   "cell_type": "code",
   "execution_count": null,
   "metadata": {},
   "outputs": [],
   "source": [
    "cohort[cohort[\"label__amyloid_diagnosis\"]==\"POSITIVE\"][\"label__amyloid_subtype_diagnosis\"].value_counts(dropna=False)"
   ]
  },
  {
   "cell_type": "code",
   "execution_count": null,
   "metadata": {},
   "outputs": [],
   "source": [
    "cohort[cohort[\"label__amyloid_subtype_diagnosis\"]==\"TTR\"][\"label__ttr_amyloid_subtype_diagnosis\"].value_counts(dropna=False)"
   ]
  },
  {
   "cell_type": "code",
   "execution_count": null,
   "metadata": {},
   "outputs": [],
   "source": [
    "cohort[cohort[\"echos_cohort_entry\"]==1][\"label__amyloid_diagnosis\"].value_counts(dropna=False)"
   ]
  },
  {
   "cell_type": "code",
   "execution_count": null,
   "metadata": {},
   "outputs": [],
   "source": [
    "cohort[cohort[\"notes_cohort_entry\"]==1][\"label__amyloid_diagnosis\"].value_counts(dropna=False)"
   ]
  },
  {
   "cell_type": "code",
   "execution_count": null,
   "metadata": {},
   "outputs": [],
   "source": [
    "# ICD code\n",
    "cohort[\"Amyloidosis\"].value_counts(dropna=False)"
   ]
  },
  {
   "cell_type": "code",
   "execution_count": null,
   "metadata": {},
   "outputs": [],
   "source": [
    "cohort[\"pyp_or_tafamidis_only\"].value_counts(dropna=False)"
   ]
  },
  {
   "cell_type": "code",
   "execution_count": 29,
   "metadata": {},
   "outputs": [],
   "source": [
    "cohort[\"patient_group__amyloid_cases\"] = (cohort[\"label__amyloid_diagnosis\"] == \"POSITIVE\") | (\n",
    "    (cohort[\"Amyloidosis\"] == 1) & (cohort[\"label__amyloid_diagnosis\"] != \"NEGATIVE\")\n",
    ")\n"
   ]
  },
  {
   "cell_type": "code",
   "execution_count": null,
   "metadata": {},
   "outputs": [],
   "source": [
    "cohort[\"patient_group__amyloid_cases\"].value_counts(dropna=False)\n"
   ]
  },
  {
   "cell_type": "code",
   "execution_count": 31,
   "metadata": {},
   "outputs": [],
   "source": [
    "cohort[\"patient_group__HF_control\"] = (~cohort[\"patient_group__amyloid_cases\"]) & (cohort[\"HF_cohort_entry\"].notna())\n",
    "cohort[\"patient_group__non_HF_control\"] = (~cohort[\"patient_group__amyloid_cases\"]) & (cohort[\"HF_cohort_entry\"].isna())\n"
   ]
  },
  {
   "cell_type": "code",
   "execution_count": null,
   "metadata": {},
   "outputs": [],
   "source": [
    "cohort[\"patient_group__HF_control\"].value_counts(dropna=False)"
   ]
  },
  {
   "cell_type": "code",
   "execution_count": null,
   "metadata": {},
   "outputs": [],
   "source": [
    "cohort[\"patient_group__non_HF_control\"].value_counts(dropna=False)"
   ]
  },
  {
   "cell_type": "code",
   "execution_count": 34,
   "metadata": {},
   "outputs": [],
   "source": [
    "cohort.to_csv(labeled_cohort_path, index=False)"
   ]
  },
  {
   "cell_type": "code",
   "execution_count": 35,
   "metadata": {},
   "outputs": [
    {
     "data": {
      "text/plain": [
       "Index(['ir_id', 'HF_cohort_entry', 'HF_cohort_entry_date', 'CA_cohort_entry',\n",
       "       'CA_cohort_entry_date', 'CM_cohort_entry', 'CM_cohort_entry_date',\n",
       "       'PYP_cohort_entry', 'PYP_cohort_entry_date', 'Tafamidis_cohort_entry',\n",
       "       'Tafamidis_cohort_entry_date', 'cMRI_cohort_entry',\n",
       "       'cMRI_cohort_entry_date', 'HF_stricter_definition_date',\n",
       "       'label__amyloid_diagnosis_date', 'label__amyloid_diagnosis',\n",
       "       'label__amyloid_subtype_diagnosis',\n",
       "       'label__ttr_amyloid_subtype_diagnosis', 'full_chart_review',\n",
       "       'label__chart_review', 'pyp_or_tafamidis_only', 'label__definitive',\n",
       "       'HFdx', 'HFdx_date', 'Age_HFdx_date', 'HF_Dx_setting', 'HFrEF_anytime',\n",
       "       'HFrEF_anytime_echodate', 'HFrEF', 'HFrEF_initialechodate', 'HFmEF',\n",
       "       'HFmEF_initialechodate', 'HFrecEF', 'HFrecEF_initialechodate',\n",
       "       'HFrecEF_followupecho', 'HFrecEF_daystorec', 'HFpEF',\n",
       "       'HFpEF_initialechodate', 'Ischemic_cardiomyopathy',\n",
       "       'ischemic_cardiomyopathy_date', 'Non_ischemic_cardiomyopathy',\n",
       "       'Non_ischemic_cardiomyopathy_code',\n",
       "       'Non_ischemic_cardiomyopathy_code_date', 'Amyloidosis',\n",
       "       'Amyloidosis_code', 'Amyloidosis_code_date', 'Sarcoidosis',\n",
       "       'Sarcoidosis_code', 'Sarcoidosis_code_date', 'Scleroderma',\n",
       "       'Scleroderma_code', 'Scleroderma_code_date', 'Age_cohort', 'Gender_EDW',\n",
       "       'Race_EDW', 'Ethnicity_EDW', 'race_ethncty_combined',\n",
       "       'Insurance_EDW_cohort', 'Insurance_Mapped_cohort',\n",
       "       'label__missing_diagnosis', 'echos_cohort_entry', 'notes_cohort_entry',\n",
       "       'patient_group__amyloid_cases', 'patient_group__HF_control',\n",
       "       'patient_group__non_HF_control'],\n",
       "      dtype='object')"
      ]
     },
     "execution_count": 35,
     "metadata": {},
     "output_type": "execute_result"
    }
   ],
   "source": [
    "cohort.columns"
   ]
  },
  {
   "cell_type": "code",
   "execution_count": null,
   "metadata": {},
   "outputs": [],
   "source": []
  }
 ],
 "metadata": {
  "kernelspec": {
   "display_name": "etl",
   "language": "python",
   "name": "python3"
  },
  "language_info": {
   "codemirror_mode": {
    "name": "ipython",
    "version": 3
   },
   "file_extension": ".py",
   "mimetype": "text/x-python",
   "name": "python",
   "nbconvert_exporter": "python",
   "pygments_lexer": "ipython3",
   "version": "3.9.16 (main, Mar  8 2023, 14:00:05) \n[GCC 11.2.0]"
  },
  "vscode": {
   "interpreter": {
    "hash": "de028c5a003b0778b81b462afd58d9616ee73722a5cbaf6618f6f5d5d2920625"
   }
  }
 },
 "nbformat": 4,
 "nbformat_minor": 4
}
