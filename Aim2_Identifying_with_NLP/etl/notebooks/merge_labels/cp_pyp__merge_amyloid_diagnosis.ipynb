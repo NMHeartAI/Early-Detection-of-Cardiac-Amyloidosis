{
 "cells": [
  {
   "cell_type": "markdown",
   "metadata": {},
   "source": [
    "## Dataset: Cardiac Path Reports, PYP Reports\n",
    "## Notebook purpose:\n",
    "- Import existing Annotations from Cardiac Path Reports, PYP Reports and get patient evel diagnosis"
   ]
  },
  {
   "cell_type": "code",
   "execution_count": 3,
   "metadata": {},
   "outputs": [],
   "source": [
    "from pathlib import Path\n",
    "import pandas as pd\n",
    "\n",
    "from datasets import load_annotations, load_patient_diagnosis"
   ]
  },
  {
   "cell_type": "code",
   "execution_count": 4,
   "metadata": {},
   "outputs": [],
   "source": [
    "pd.set_option(\"display.max_colwidth\", None)"
   ]
  },
  {
   "cell_type": "code",
   "execution_count": 5,
   "metadata": {},
   "outputs": [],
   "source": [
    "cp__patient_diagnosis =load_patient_diagnosis(\"cardiac_path_reports\")\n",
    "pyp__patient_diagnosis =load_patient_diagnosis(\"pyp_reports\")\n",
    "cp__annotations = load_annotations(\"cardiac_path_reports\")\n",
    "pyp__annotations = load_annotations(\"pyp_reports\")"
   ]
  },
  {
   "cell_type": "code",
   "execution_count": 6,
   "metadata": {},
   "outputs": [],
   "source": [
    "cp_pyp__patient_diagnosis_path = Path(\"/data/datasets/Amyloidosis/patient_amyloid_diagnosis/cp_pyp/patient_amyloid_diagnosis.csv\")"
   ]
  },
  {
   "cell_type": "code",
   "execution_count": 6,
   "metadata": {},
   "outputs": [],
   "source": [
    "cp_pyp__patient_diagnosis = pd.merge(cp__patient_diagnosis, pyp__patient_diagnosis, how=\"outer\", on=\"ir_id\", suffixes=(\"_cp\", \"_pyp\"))"
   ]
  },
  {
   "cell_type": "code",
   "execution_count": 7,
   "metadata": {},
   "outputs": [],
   "source": [
    "assert not len(\n",
    "    cp_pyp__patient_diagnosis[\n",
    "        (cp_pyp__patient_diagnosis[\"cp__amyloid_diagnosis\"].isna())\n",
    "        & (cp_pyp__patient_diagnosis[\"pyp__amyloid_diagnosis\"].isna())\n",
    "    ]\n",
    ")\n",
    "\n"
   ]
  },
  {
   "cell_type": "code",
   "execution_count": 8,
   "metadata": {},
   "outputs": [],
   "source": [
    "disagreements = cp_pyp__patient_diagnosis[\n",
    "    (cp_pyp__patient_diagnosis[\"cp__amyloid_diagnosis\"].notna())\n",
    "    & (cp_pyp__patient_diagnosis[\"pyp__amyloid_diagnosis\"].notna())\n",
    "    & (cp_pyp__patient_diagnosis[\"cp__amyloid_diagnosis\"] != cp_pyp__patient_diagnosis[\"pyp__amyloid_diagnosis\"])\n",
    "].copy(deep=True)\n",
    "\n",
    "disagreements[\"cp_pyp__amyloid_diagnosis\"] = disagreements.apply(\n",
    "    lambda row: (row[\"cp__amyloid_diagnosis\"], row[\"pyp__amyloid_diagnosis\"]), axis=1\n",
    ")\n"
   ]
  },
  {
   "cell_type": "code",
   "execution_count": 9,
   "metadata": {},
   "outputs": [],
   "source": [
    "pyp_map = [\"Not suggestive\", \"Strongly suggestive\", \"Equivocal\"]\n",
    "cp_map = [\"Negative\", \"Positive\", \"Indeterminate\"]\n",
    "df_disagreements = (\n",
    "    disagreements[\"cp_pyp__amyloid_diagnosis\"]\n",
    "    .value_counts()\n",
    "    .rename_axis(\"cp_pyp\")\n",
    "    .reset_index(name=\"counts\")\n",
    ")\n",
    "df_disagreements[\"cardiac_path_diagnosis\"] = df_disagreements[\"cp_pyp\"].apply(\n",
    "    lambda x: cp_map[int(x[0])]\n",
    ")\n",
    "df_disagreements[\"pyp_diagnosis\"] = df_disagreements[\"cp_pyp\"].apply(\n",
    "    lambda x: pyp_map[int(x[1])]\n",
    ")\n",
    "df_disagreements = df_disagreements.drop(columns=[\"cp_pyp\"])\n",
    "s = [\"Negative\", \"Positive\", \"Positive\", \"Positive\", \"Negative\", \"Negative\"]\n",
    "df_disagreements[\"final_diagnosis\"] = pd.Series(s)\n"
   ]
  },
  {
   "cell_type": "code",
   "execution_count": null,
   "metadata": {},
   "outputs": [],
   "source": [
    "df_disagreements"
   ]
  },
  {
   "cell_type": "code",
   "execution_count": 14,
   "metadata": {},
   "outputs": [],
   "source": [
    "def get_final_diagnosis(row):\n",
    "    cp_diagnosis = row[\"cp__amyloid_diagnosis\"]\n",
    "    pyp_diagnosis = row[\"pyp__amyloid_diagnosis\"]\n",
    "    \n",
    "    cp_date = row[\"cp__amyloid_diagnosis_date\"]\n",
    "    pyp_date = row[\"pyp__amyloid_diagnosis_date\"]\n",
    "\n",
    "    assert not (pd.isnull(cp_diagnosis) and pd.isnull(pyp_diagnosis))\n",
    "    \n",
    "    if pd.isnull(cp_diagnosis):\n",
    "            return int(pyp_diagnosis), pyp_date\n",
    "    \n",
    "    elif pd.isnull(pyp_diagnosis):\n",
    "            return int(cp_diagnosis), cp_date\n",
    "    \n",
    "    else:\n",
    "        cp_diagnosis = int(cp_diagnosis)\n",
    "        pyp_diagnosis = int(pyp_diagnosis)\n",
    "\n",
    "        if cp_diagnosis != pyp_diagnosis:\n",
    "            if cp_diagnosis == 2:\n",
    "                return pyp_diagnosis, pyp_date\n",
    "            else:\n",
    "                return cp_diagnosis, cp_date\n",
    "        else:\n",
    "            return cp_diagnosis, cp_date"
   ]
  },
  {
   "cell_type": "code",
   "execution_count": 15,
   "metadata": {},
   "outputs": [],
   "source": [
    "cp_pyp__patient_diagnosis[\n",
    "    [\"final_diagnosis\", \"final_diagnosis_date\"]\n",
    "] = cp_pyp__patient_diagnosis.apply(\n",
    "    lambda row: get_final_diagnosis(row), axis=1, result_type=\"expand\"\n",
    ")\n"
   ]
  },
  {
   "cell_type": "code",
   "execution_count": 16,
   "metadata": {},
   "outputs": [],
   "source": [
    "# cp_pyp__patient_diagnosis.to_csv(cp_pyp__patient_diagnosis_path, index=False)"
   ]
  },
  {
   "cell_type": "code",
   "execution_count": 8,
   "metadata": {},
   "outputs": [],
   "source": [
    "cp = load_annotations(\"cardiac_path_reports\")"
   ]
  },
  {
   "cell_type": "code",
   "execution_count": null,
   "metadata": {},
   "outputs": [],
   "source": []
  }
 ],
 "metadata": {
  "interpreter": {
   "hash": "b6812947f02ed1b5bfd3d40a76e12757e1dc3ab319bb591b507b0da58db32a2f"
  },
  "kernelspec": {
   "display_name": "Python 3.8.5 ('amyloidosis')",
   "language": "python",
   "name": "python3"
  },
  "language_info": {
   "codemirror_mode": {
    "name": "ipython",
    "version": 3
   },
   "file_extension": ".py",
   "mimetype": "text/x-python",
   "name": "python",
   "nbconvert_exporter": "python",
   "pygments_lexer": "ipython3",
   "version": "3.8.5 (default, Sep  4 2020, 07:30:14) \n[GCC 7.3.0]"
  }
 },
 "nbformat": 4,
 "nbformat_minor": 4
}
