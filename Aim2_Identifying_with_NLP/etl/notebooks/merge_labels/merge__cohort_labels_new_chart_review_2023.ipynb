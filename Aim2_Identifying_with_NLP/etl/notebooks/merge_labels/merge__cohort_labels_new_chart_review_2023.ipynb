{
 "cells": [
  {
   "attachments": {},
   "cell_type": "markdown",
   "metadata": {},
   "source": [
    "## Notebook purpose:\n",
    "In this notebook we take patient level amyloid diagnosis data for our cohort and merge it with chart review data.\n",
    "\n",
    "### Datasets:\n",
    "1. **cohort patient labels** is the dataframe of labels for patients in our cohort that is output from the notebook `merge__labels_clinical_chart_review_tafamidis_2023.ipynb`\n",
    "2. Labels from clinical chart review following an analysis of clashes in 1, and labeling of notes and mri reports of patients with amyloid ICD codes. **These labels replace the labels from source 1**.\n",
    "  - Gold Standard\n",
    "  - Classes: \n",
    "    - AL\n",
    "      - mapped to (POSITIVE, AL, NaN)\n",
    "    - hTTR\n",
    "      - mapped to (POSITIVE, TTR, HTTR)\n",
    "    - wTTR\n",
    "      - mapped to (POSITIVE, TTR, INDETERMINATE)\n",
    "    - TTR - subtype pending\n",
    "      - mapped to (POSITIVE, TTR, TTR - w/u pending)\n",
    "    - positive - subtype pending\n",
    "      - mapped to (POSITIVE, INDETERMINATE, NaN)\n",
    "    - negative\n",
    "      - mapped to (NEGATIVE, NaN, NaN)\n",
    "    - other\n",
    "      - mapped to (INDETERMINATE, NaN, NaN)\n",
    "    - other - unknown\n",
    "      - mapped to (INDETERMINATE, NaN, NaN)\n",
    "\n",
    "\n",
    "### Output\n",
    "**cohort_amyloid_labels__chart_reviewed.csv** is the dataframe of labels for patients in our cohort. The `label__amyloid_diagnosis`, `label__amyloid_subtype_diagnosis`, `label__ttr_amyloid_subtype_diagnosis`, `label__amyloid_diagnosis_date` columns have the label obtained from merging the previous labels with the chart review data. \n"
   ]
  },
  {
   "cell_type": "code",
   "execution_count": 34,
   "metadata": {},
   "outputs": [],
   "source": [
    "import numpy as np\n",
    "import pandas as pd\n",
    "from pathlib import Path\n",
    "\n",
    "\n",
    "pd.set_option(\"display.max_colwidth\", None)\n",
    "pd.set_option(\"display.max_rows\", None)\n"
   ]
  },
  {
   "cell_type": "code",
   "execution_count": 69,
   "metadata": {},
   "outputs": [],
   "source": [
    "# The path to the Amyloid data\n",
    "DATASET_PATH = Path(\"/data/datasets/Amyloidosis/\")\n",
    "\n",
    "# new chart revieew\n",
    "cohort_chart_reviews_path = (\n",
    "    DATASET_PATH / \"patient_amyloid_diagnosis\" / \"cohort_chart_reviews_simons_copy.xlsx\"\n",
    ")\n",
    "\n",
    "chart_reviews_2023_path = (\n",
    "    DATASET_PATH / \"2023 pull\" / \"Amyloid_Clinic_Anna.xlsx\"\n",
    ")\n",
    "\n",
    "# Patient level diagnoses from cardiac path reports, pyp reports, and mayo labs\n",
    "# Merged with clinic chart review labels\n",
    "# This yields the cohort amyloid labels, which are GOLD STANDARD for amyloid diagnosis\n",
    "cohort_amyloid_labels_path = (\n",
    "    DATASET_PATH / \"2023 pull\" / \"patient_amyloid_diagnosis\" / \"cohort_amyloid_labels 2023.csv\"\n",
    ")\n"
   ]
  },
  {
   "cell_type": "markdown",
   "metadata": {},
   "source": [
    "### Load Cohort Labels Data"
   ]
  },
  {
   "cell_type": "code",
   "execution_count": 70,
   "metadata": {},
   "outputs": [],
   "source": [
    "cohort_labels = pd.read_csv(cohort_amyloid_labels_path)"
   ]
  },
  {
   "cell_type": "code",
   "execution_count": 74,
   "metadata": {},
   "outputs": [],
   "source": [
    "cohort_labels.label__amyloid_diagnosis_date = pd.to_datetime(cohort_labels.label__amyloid_diagnosis_date)"
   ]
  },
  {
   "cell_type": "code",
   "execution_count": null,
   "metadata": {},
   "outputs": [],
   "source": [
    "print(\n",
    "    f'We have {len(cohort_labels[\"ir_id\"].unique())} patients with a gold standard amyloid diagnosis.'\n",
    ")\n",
    "\n",
    "print(cohort_labels[\"final__amyloid_diagnosis\"].value_counts(dropna=False))\n",
    "\n",
    "print(cohort_labels[\"final__amyloid_subtype_diagnosis\"].value_counts(dropna=False))\n",
    "\n",
    "print(cohort_labels[\"final__ttr_amyloid_subtype_diagnosis\"].value_counts(dropna=False))"
   ]
  },
  {
   "cell_type": "markdown",
   "metadata": {},
   "source": [
    "### Load Cohort Chart Review Data"
   ]
  },
  {
   "cell_type": "code",
   "execution_count": 77,
   "metadata": {},
   "outputs": [],
   "source": [
    "chart_reviews = pd.read_excel(cohort_chart_reviews_path)\n",
    "chart_reviews = chart_reviews[chart_reviews[\"amyloid_type\"].notna()]\n",
    "chart_reviews.ir_id = chart_reviews.ir_id.astype(int)\n",
    "chart_reviews.label = chart_reviews.label.astype(\"string\").str.strip()\n",
    "chart_reviews.document_description = chart_reviews.document_description.astype(\"string\").str.strip()\n",
    "chart_reviews.diagnosis_method = chart_reviews.diagnosis_method.astype(\"string\").str.strip()\n",
    "chart_reviews.AL_cardiac_test = chart_reviews.AL_cardiac_test.astype(\"string\").str.strip()\n",
    "chart_reviews.amyloid_type = chart_reviews.amyloid_type.astype(\"string\").str.strip()\n",
    "chart_reviews.priority =  chart_reviews.priority.astype(int)\n",
    "chart_reviews.diagnosis_date_norm = pd.to_datetime(chart_reviews.diagnosis_date_norm, errors=\"coerce\")\n",
    "if \"Unnamed: 0\" in chart_reviews.columns:\n",
    "    chart_reviews.drop(columns=[\"Unnamed: 0\"], inplace=True)"
   ]
  },
  {
   "cell_type": "code",
   "execution_count": 78,
   "metadata": {},
   "outputs": [],
   "source": [
    "assert chart_reviews.shape[0] == chart_reviews[\"ir_id\"].nunique(), \"Some patients have more than one record\"\n",
    "# add prefix 'chart_reviews__' to each column except for 'ir_id'\n",
    "chart_reviews = pd.concat(\n",
    "    [\n",
    "        chart_reviews[chart_reviews.columns[0]],\n",
    "        chart_reviews[chart_reviews.columns[1:]].add_prefix(\"full_chart_reviews__\"),\n",
    "    ],\n",
    "    axis=1,\n",
    ")"
   ]
  },
  {
   "cell_type": "code",
   "execution_count": 80,
   "metadata": {},
   "outputs": [],
   "source": [
    "chart_reviews.drop(columns=[\"full_chart_reviews__diagnosis_date\", \"full_chart_reviews__label_date\"], inplace=True)\n",
    "chart_reviews.rename(columns={\"full_chart_reviews__label\": \"full_chart_reviews__suggested_label\"}, inplace=True)"
   ]
  },
  {
   "cell_type": "code",
   "execution_count": null,
   "metadata": {},
   "outputs": [],
   "source": [
    "print(\n",
    "    f'We have {chart_reviews.ir_id.nunique()} patients Chart review.'\n",
    ")\n",
    "\n",
    "chart_reviews.full_chart_reviews__amyloid_type.value_counts(dropna=False)\n"
   ]
  },
  {
   "cell_type": "markdown",
   "metadata": {},
   "source": [
    "### Read Chart Review 2023 Data"
   ]
  },
  {
   "cell_type": "code",
   "execution_count": 83,
   "metadata": {},
   "outputs": [],
   "source": [
    "chart_reviews_2023 = pd.read_excel(chart_reviews_2023_path)\n",
    "\n",
    "chart_reviews_2023.ir_id = chart_reviews_2023.ir_id.astype(int)\n",
    "chart_reviews_2023.drop(columns=[\"DOB\", \"Unnamed: 7\", \"Genetics\"], inplace=True)\n",
    "chart_reviews_2023.Label = chart_reviews_2023.Label.astype(\"string\")\n",
    "chart_reviews_2023[\"Date Of Diagnosis\"] = pd.to_datetime(chart_reviews_2023[\"Date Of Diagnosis\"])\n",
    "chart_reviews_2023[\"Column2\"] = chart_reviews_2023[\"Column2\"].astype(\"string\")\n",
    "chart_reviews_2023[\"Column3\"] = chart_reviews_2023[\"Column3\"].astype(\"string\")\n",
    "\n",
    "chart_reviews_2023.rename(columns={\n",
    "    \"Label\": \"full_chart_reviews__amyloid_type\",\n",
    "    \"Date Of Diagnosis\": \"full_chart_reviews__diagnosis_date_norm\",\n",
    "    \"Column2\": \"full_chart_reviews__diagnosis_method\",\n",
    "    \"Column3\": \"full_chart_reviews__Notes\",\n",
    "}, inplace=True)\n",
    "\n",
    "chart_reviews_2023.full_chart_reviews__amyloid_type = chart_reviews_2023.full_chart_reviews__amyloid_type.map(\n",
    "    {\n",
    "        \"wtATTR\": \"wTTR\",\n",
    "        \"hATTR\": \"hTTR\",\n",
    "        \"wtTTR\": \"wTTR\",\n",
    "        \"ATTR\": \"TTR - subtype pending\",\n",
    "        \"AL\": \"AL\"\n",
    "    }\n",
    ")"
   ]
  },
  {
   "cell_type": "code",
   "execution_count": null,
   "metadata": {},
   "outputs": [],
   "source": [
    "print(\n",
    "    f'We have {chart_reviews_2023.ir_id.nunique()} patients Chart review.'\n",
    ")\n",
    "\n",
    "chart_reviews_2023.full_chart_reviews__amyloid_type.value_counts(dropna=False)\n"
   ]
  },
  {
   "cell_type": "code",
   "execution_count": 87,
   "metadata": {},
   "outputs": [],
   "source": [
    "final_chart_reviews = pd.concat([chart_reviews, chart_reviews_2023])"
   ]
  },
  {
   "cell_type": "code",
   "execution_count": null,
   "metadata": {},
   "outputs": [],
   "source": [
    "final_chart_reviews.full_chart_reviews__amyloid_type.value_counts(dropna=False)"
   ]
  },
  {
   "cell_type": "markdown",
   "metadata": {},
   "source": [
    "### Merge Labels with Full Chart Review and Clinic Cohort\n",
    "\n",
    "We use an outer merge here because some patients are present in the chart review cohort and not in the labels"
   ]
  },
  {
   "cell_type": "code",
   "execution_count": 89,
   "metadata": {},
   "outputs": [],
   "source": [
    "new_cohort_labels = cohort_labels.merge(final_chart_reviews, on=\"ir_id\", how=\"outer\")"
   ]
  },
  {
   "cell_type": "code",
   "execution_count": null,
   "metadata": {},
   "outputs": [],
   "source": [
    "print(f\"chart review values:\\n{new_cohort_labels.full_chart_reviews__amyloid_type.unique()}\")\n",
    "print()\n",
    "print(f\"amyloid labels:\\n {new_cohort_labels.label__amyloid_diagnosis.unique()}\")\n",
    "print()\n",
    "print(f\"amyloid subtype labels:\\n {new_cohort_labels.label__amyloid_subtype_diagnosis.unique()}\")\n",
    "print()\n",
    "print(f\"ttr amyloid subtype labels:\\n {new_cohort_labels.label__ttr_amyloid_subtype_diagnosis.unique()}\")\n",
    "print()\n"
   ]
  },
  {
   "cell_type": "code",
   "execution_count": 91,
   "metadata": {},
   "outputs": [],
   "source": [
    "amyloid_map = {\n",
    "    \"AL\": \"POSITIVE\",\n",
    "    \"negative\": \"NEGATIVE\",\n",
    "    \"hTTR\": \"POSITIVE\",\n",
    "    \"wTTR\": \"POSITIVE\",\n",
    "    \"other - unknown\": \"INDETERMINATE\",\n",
    "    \"other\": \"INDETERMINATE\",\n",
    "    \"positive - subtype pending\": \"POSITIVE\",\n",
    "    \"TTR - subtype pending\": \"POSITIVE\",\n",
    "}\n",
    "amyloid_subtype_map = {\n",
    "    \"AL\": \"AL\",\n",
    "    \"negative\": np.nan,\n",
    "    \"hTTR\": \"TTR\",\n",
    "    \"wTTR\": \"TTR\",\n",
    "    \"other - unknown\": np.nan,\n",
    "    \"other\": np.nan,\n",
    "    \"positive - subtype pending\": \"INDETERMINATE\",\n",
    "    \"TTR - subtype pending\": \"TTR\",\n",
    "}\n",
    "ttr_amyloid_subtype_map = {\n",
    "    \"AL\": np.nan,\n",
    "    \"negative\": np.nan,\n",
    "    \"hTTR\": \"HTTR\",\n",
    "    \"wTTR\": \"INDETERMINATE\",\n",
    "    \"other - unknown\": np.nan,\n",
    "    \"other\": np.nan,\n",
    "    \"positive - subtype pending\": np.nan,\n",
    "    \"TTR - subtype pending\": \"TTR - w/u pending\",\n",
    "}"
   ]
  },
  {
   "cell_type": "code",
   "execution_count": 92,
   "metadata": {},
   "outputs": [],
   "source": [
    "new_cohort_labels[\"full_chart_review\"] = new_cohort_labels.full_chart_reviews__amyloid_type.notna()"
   ]
  },
  {
   "cell_type": "code",
   "execution_count": 93,
   "metadata": {},
   "outputs": [],
   "source": [
    "chart_reviewed_records = new_cohort_labels[new_cohort_labels.full_chart_review == True].copy(deep=True)\n",
    "other_records = new_cohort_labels[new_cohort_labels.full_chart_review == False].copy(deep=True)"
   ]
  },
  {
   "cell_type": "code",
   "execution_count": 94,
   "metadata": {},
   "outputs": [],
   "source": [
    "chart_reviewed_records[\"label__amyloid_diagnosis_date\"] = chart_reviewed_records[\n",
    "    \"full_chart_reviews__diagnosis_date_norm\"\n",
    "]\n",
    "chart_reviewed_records[\"label__amyloid_diagnosis\"] = chart_reviewed_records[\n",
    "    \"full_chart_reviews__amyloid_type\"\n",
    "].map(amyloid_map)\n",
    "chart_reviewed_records[\"label__amyloid_subtype_diagnosis\"] = chart_reviewed_records[\n",
    "    \"full_chart_reviews__amyloid_type\"\n",
    "].map(amyloid_subtype_map)\n",
    "chart_reviewed_records[\"label__ttr_amyloid_subtype_diagnosis\"] = chart_reviewed_records[\n",
    "    \"full_chart_reviews__amyloid_type\"\n",
    "].map(ttr_amyloid_subtype_map)\n"
   ]
  },
  {
   "cell_type": "code",
   "execution_count": 96,
   "metadata": {},
   "outputs": [],
   "source": [
    "chart_reviewed_cohort_labels = pd.concat(\n",
    "    [chart_reviewed_records, other_records]\n",
    ")\n",
    "chart_reviewed_cohort_labels.sort_values(by=\"ir_id\", inplace=True)\n",
    "chart_reviewed_cohort_labels.reset_index(drop=True, inplace=True)\n",
    "\n"
   ]
  },
  {
   "cell_type": "code",
   "execution_count": 97,
   "metadata": {},
   "outputs": [
    {
     "data": {
      "text/plain": [
       "Index(['ir_id', 'cardiac_path__amyloid_diagnosis', 'pyp__amyloid_diagnosis',\n",
       "       'mayo__amyloid_diagnosis', 'mayo__amyloid_subtype_diagnosis',\n",
       "       'mayo__ttr_amyloid_subtype_diagnosis', 'final__amyloid_diagnosis',\n",
       "       'final__amyloid_diagnosis_date', 'final__amyloid_subtype_diagnosis',\n",
       "       'final__ttr_amyloid_subtype_diagnosis', 'chart_reviews__Amyloid_type',\n",
       "       'chart_reviews__Method_of_diagnosis',\n",
       "       'chart_reviews__amyloid_diagnosis_date',\n",
       "       'chart_reviews__Age_at_Diagnosis', 'chart_reviews__amyloid_diagnosis',\n",
       "       'chart_reviews__amyloid_subtype_diagnosis',\n",
       "       'chart_reviews__ttr_amyloid_subtype_diagnosis',\n",
       "       'merge_chart_reviews_consistency',\n",
       "       'merge_chart_reviews_consistency_description', 'Tafamidis_cohort_entry',\n",
       "       'Tafamidis_cohort_entry_date', 'merge_tafamidis_consistency',\n",
       "       'merge_tafamidis_consistency_description', 'label__amyloid_diagnosis',\n",
       "       'label__amyloid_subtype_diagnosis',\n",
       "       'label__ttr_amyloid_subtype_diagnosis', 'label__amyloid_diagnosis_date',\n",
       "       'pyp_or_tafamidis_only', 'label__chart_review',\n",
       "       'diagnosis__chart_review', 'full_chart_reviews__suggested_label',\n",
       "       'full_chart_reviews__document_description',\n",
       "       'full_chart_reviews__priority', 'full_chart_reviews__amyloid_type',\n",
       "       'full_chart_reviews__diagnosis_method',\n",
       "       'full_chart_reviews__diagnosis_date_norm',\n",
       "       'full_chart_reviews__AL_cardiac_test', 'full_chart_reviews__Notes',\n",
       "       'full_chart_review'],\n",
       "      dtype='object')"
      ]
     },
     "execution_count": 97,
     "metadata": {},
     "output_type": "execute_result"
    }
   ],
   "source": [
    "chart_reviewed_cohort_labels.columns"
   ]
  },
  {
   "cell_type": "code",
   "execution_count": 98,
   "metadata": {},
   "outputs": [],
   "source": [
    "reordered_columns = [\n",
    "    \"ir_id\",\n",
    "    \"label__amyloid_diagnosis\",\n",
    "    \"label__amyloid_subtype_diagnosis\",\n",
    "    \"label__ttr_amyloid_subtype_diagnosis\",\n",
    "    \"label__amyloid_diagnosis_date\",\n",
    "    \"full_chart_review\",\n",
    "    \"pyp_or_tafamidis_only\",\n",
    "    \"label__chart_review\",\n",
    "    \"diagnosis__chart_review\",\n",
    "    \"cardiac_path__amyloid_diagnosis\",\n",
    "    \"pyp__amyloid_diagnosis\",\n",
    "    \"mayo__amyloid_diagnosis\",\n",
    "    \"mayo__amyloid_subtype_diagnosis\",\n",
    "    \"mayo__ttr_amyloid_subtype_diagnosis\",\n",
    "    \"final__amyloid_diagnosis\",\n",
    "    \"final__amyloid_diagnosis_date\",\n",
    "    \"final__amyloid_subtype_diagnosis\",\n",
    "    \"final__ttr_amyloid_subtype_diagnosis\",\n",
    "    \"chart_reviews__Amyloid_type\",\n",
    "    \"chart_reviews__Method_of_diagnosis\",\n",
    "    \"chart_reviews__amyloid_diagnosis_date\",\n",
    "    \"chart_reviews__Age_at_Diagnosis\",\n",
    "    \"chart_reviews__amyloid_diagnosis\",\n",
    "    \"chart_reviews__amyloid_subtype_diagnosis\",\n",
    "    \"chart_reviews__ttr_amyloid_subtype_diagnosis\",\n",
    "    \"merge_chart_reviews_consistency\",\n",
    "    \"merge_chart_reviews_consistency_description\",\n",
    "    \"Tafamidis_cohort_entry\",\n",
    "    \"Tafamidis_cohort_entry_date\",\n",
    "    \"merge_tafamidis_consistency\",\n",
    "    \"merge_tafamidis_consistency_description\",\n",
    "    \"full_chart_reviews__suggested_label\",\n",
    "    \"full_chart_reviews__document_description\",\n",
    "    \"full_chart_reviews__priority\",\n",
    "    \"full_chart_reviews__amyloid_type\",\n",
    "    \"full_chart_reviews__diagnosis_method\",\n",
    "    \"full_chart_reviews__diagnosis_date_norm\",\n",
    "    \"full_chart_reviews__AL_cardiac_test\",\n",
    "    \"full_chart_reviews__Notes\",\n",
    "]\n",
    "\n",
    "assert sorted(list(chart_reviewed_cohort_labels.columns)) == sorted(reordered_columns)\n",
    "\n",
    "chart_reviewed_cohort_labels = chart_reviewed_cohort_labels[reordered_columns]\n",
    "\n"
   ]
  },
  {
   "cell_type": "markdown",
   "metadata": {},
   "source": [
    "#### Counting the patients before and after this merge"
   ]
  },
  {
   "cell_type": "code",
   "execution_count": null,
   "metadata": {},
   "outputs": [],
   "source": [
    "print(f\"amyloid cases before:\\n{cohort_labels.label__amyloid_diagnosis.value_counts(dropna=False)}\")\n",
    "print()\n",
    "print(f\"amyloid cases after:\\n{chart_reviewed_cohort_labels.label__amyloid_diagnosis.value_counts(dropna=False)}\")\n"
   ]
  },
  {
   "cell_type": "code",
   "execution_count": null,
   "metadata": {},
   "outputs": [],
   "source": [
    "print(f\"amyloid subtype before:\\n{cohort_labels.label__amyloid_subtype_diagnosis.value_counts(dropna=False)}\")\n",
    "print()\n",
    "print(f\"amyloid subtype after:\\n{chart_reviewed_cohort_labels.label__amyloid_subtype_diagnosis.value_counts(dropna=False)}\")\n"
   ]
  },
  {
   "cell_type": "code",
   "execution_count": null,
   "metadata": {},
   "outputs": [],
   "source": [
    "print(f\"ttr amyloid subtype before:\\n{cohort_labels.label__ttr_amyloid_subtype_diagnosis.value_counts(dropna=False)}\")\n",
    "print()\n",
    "print(f\"ttr amyloid subtype after:\\n{chart_reviewed_cohort_labels.label__ttr_amyloid_subtype_diagnosis.value_counts(dropna=False)}\")\n"
   ]
  },
  {
   "cell_type": "markdown",
   "metadata": {},
   "source": [
    "### Saving the data.\n",
    "We save 1 files:\n",
    "- updated labels with new chart review data"
   ]
  },
  {
   "cell_type": "markdown",
   "metadata": {},
   "source": [
    "This next cell creates a dataframe to collect values from chart review"
   ]
  },
  {
   "cell_type": "code",
   "execution_count": 103,
   "metadata": {},
   "outputs": [],
   "source": [
    "# Patient level diagnoses from cardiac path reports, pyp reports, and mayo labs, tafamidis, and clinical chart review\n",
    "# Merged with new chart review labels\n",
    "# This yields the cohort_amyloid_labels__chart_reviewed which are GOLD STANDARD for amyloid diagnosis\n",
    "chart_reviewed_cohort_amyloid_labels_path = (\n",
    "    DATASET_PATH / \"2023 pull\" / \"patient_amyloid_diagnosis\" / \"cohort_amyloid_labels__chart_reviewed_2023.csv\"\n",
    ")\n",
    "\n",
    "chart_reviewed_cohort_labels.to_csv(chart_reviewed_cohort_amyloid_labels_path, index=False)\n"
   ]
  },
  {
   "cell_type": "code",
   "execution_count": null,
   "metadata": {},
   "outputs": [],
   "source": []
  }
 ],
 "metadata": {
  "interpreter": {
   "hash": "b6812947f02ed1b5bfd3d40a76e12757e1dc3ab319bb591b507b0da58db32a2f"
  },
  "kernelspec": {
   "display_name": "Python 3",
   "language": "python",
   "name": "python3"
  },
  "language_info": {
   "codemirror_mode": {
    "name": "ipython",
    "version": 3
   },
   "file_extension": ".py",
   "mimetype": "text/x-python",
   "name": "python",
   "nbconvert_exporter": "python",
   "pygments_lexer": "ipython3",
   "version": "3.8.5 (default, Sep  4 2020, 07:30:14) \n[GCC 7.3.0]"
  }
 },
 "nbformat": 4,
 "nbformat_minor": 4
}
